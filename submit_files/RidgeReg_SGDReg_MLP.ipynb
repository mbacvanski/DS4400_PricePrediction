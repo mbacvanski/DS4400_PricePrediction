{
 "cells": [
  {
   "cell_type": "code",
   "execution_count": 1,
   "id": "6dad3349",
   "metadata": {},
   "outputs": [
    {
     "name": "stderr",
     "output_type": "stream",
     "text": [
      "F:\\Desktop\\Classes\\cs4120-hw4\\.venv\\lib\\site-packages\\tqdm\\auto.py:22: TqdmWarning: IProgress not found. Please update jupyter and ipywidgets. See https://ipywidgets.readthedocs.io/en/stable/user_install.html\n",
      "  from .autonotebook import tqdm as notebook_tqdm\n"
     ]
    }
   ],
   "source": [
    "import eli5\n",
    "import numpy as np\n",
    "import pandas as pd\n",
    "from sklearn.model_selection import train_test_split\n",
    "from sklearn.feature_extraction.text import CountVectorizer, TfidfVectorizer\n",
    "import tqdm\n",
    "import re\n",
    "from scipy.sparse import csr_matrix\n",
    "from scipy.sparse import hstack\n",
    "from sklearn.linear_model import Ridge\n",
    "from sklearn.linear_model import SGDRegressor\n",
    "from sklearn.linear_model import Perceptron\n",
    "from math import sqrt\n",
    "from sklearn.metrics import mean_squared_error as mse\n",
    "import matplotlib.pyplot as plt\n",
    "import keras\n",
    "import tensorflow as tf\n",
    "import torch"
   ]
  },
  {
   "cell_type": "markdown",
   "id": "dfb5fe28",
   "metadata": {},
   "source": [
    "### Preprocessing"
   ]
  },
  {
   "cell_type": "code",
   "execution_count": 2,
   "id": "df1cafe6",
   "metadata": {},
   "outputs": [],
   "source": [
    "dataset = pd.read_csv('data/train.tsv', sep='\\t', header=0)\n",
    "dataset['category_name'] = dataset['category_name'].fillna('Other').astype(str)\n",
    "dataset['brand_name'] = dataset['brand_name'].fillna('missing').astype(str)\n",
    "dataset['shipping'] = dataset['shipping']\n",
    "dataset['item_condition_id'] = dataset['item_condition_id']\n",
    "dataset['item_description'] = dataset['item_description'].fillna('None')"
   ]
  },
  {
   "cell_type": "code",
   "execution_count": 3,
   "id": "f8c588db",
   "metadata": {},
   "outputs": [],
   "source": [
    "dataset = dataset[dataset.price>0] # Remove entries with negative price"
   ]
  },
  {
   "cell_type": "code",
   "execution_count": 4,
   "id": "4adf73f0",
   "metadata": {},
   "outputs": [],
   "source": [
    "# split category into general, sub1, and sub2\n",
    "categories = list(dataset['category_name'])\n",
    "\n",
    "gencat_list = []\n",
    "subcat1_list = []\n",
    "subcat2_list = []\n",
    "\n",
    "for cat in categories:\n",
    "    cats = cat.split(\"/\")\n",
    "    cats[0] = cats[0].replace(' ','')\n",
    "    cats[0] = cats[0].replace('&','_')\n",
    "    if len(cats) > 1: \n",
    "        cats[1] = cats[1].replace(' ','')\n",
    "        cats[1] = cats[1].replace('&','_')\n",
    "    if len(cats) > 2: \n",
    "        cats[2] = cats[2].replace(' ','')\n",
    "        cats[2] = cats[2].replace('&','_')\n",
    "    gencat_list.append(cats[0].strip())\n",
    "    subcat1_list.append(cats[1].strip() if len(cats) > 1 else \"Other\")\n",
    "    subcat2_list.append(cats[2].strip() if len(cats) > 2 else \"Other\")\n",
    "\n",
    "dataset[\"general_category\"] = gencat_list\n",
    "dataset[\"subcategory_1\"] = subcat1_list\n",
    "dataset[\"subcategory_2\"] = subcat2_list\n",
    "dataset.drop('category_name', axis=1, inplace=True)"
   ]
  },
  {
   "cell_type": "code",
   "execution_count": 5,
   "id": "460aaa78",
   "metadata": {},
   "outputs": [],
   "source": [
    "X = dataset.loc[:, dataset.columns != 'price']\n",
    "Y = np.log1p(dataset['price'])\n",
    "\n",
    "# 80% training data, 20% test data\n",
    "X_train, X_test, Y_train, Y_test = train_test_split(X, Y, test_size=0.2, random_state=0)"
   ]
  },
  {
   "cell_type": "code",
   "execution_count": 6,
   "id": "1f37a6cd",
   "metadata": {},
   "outputs": [],
   "source": [
    "# one hot encode categorical features that are not already numbers\n",
    "\n",
    "def one_hot_categorical(train, test):\n",
    "    vectorizer = CountVectorizer(lowercase=False, binary=True)\n",
    "    onehot_train = vectorizer.fit_transform(train.values)\n",
    "    onehot_test = vectorizer.transform(test.values)\n",
    "    return onehot_train, onehot_test\n",
    "\n",
    "onehot_train_brand, onehot_test_brand = one_hot_categorical(X_train['brand_name'], X_test['brand_name'])\n",
    "onehot_train_gencat, onehot_test_gencat = one_hot_categorical(X_train['general_category'], X_test['general_category'])\n",
    "onehot_train_subcat1, onehot_test_subcat1 = one_hot_categorical(X_train['subcategory_1'], X_test['subcategory_1'])\n",
    "onehot_train_subcat2, onehot_test_subcat2 = one_hot_categorical(X_train['subcategory_2'], X_test['subcategory_2'])"
   ]
  },
  {
   "cell_type": "code",
   "execution_count": 7,
   "id": "a1739a5e",
   "metadata": {},
   "outputs": [],
   "source": [
    "# Use tfidf for text-based features\n",
    "\n",
    "def tfidf_text(train, test, min_df, max_features):\n",
    "    vectorizer = TfidfVectorizer(ngram_range=(1, 3), min_df=min_df, max_features=max_features)\n",
    "    tfidf_train = vectorizer.fit_transform(train.values)\n",
    "    tfidf_test = vectorizer.transform(test.values)\n",
    "    return tfidf_train, tfidf_test\n",
    "    \n",
    "tfidf_train_name, tfidf_test_name = tfidf_text(X_train['name'], X_test['name'], 3, 250000)\n",
    "tfidf_train_description, tfidf_test_description = tfidf_text(X_train['item_description'], X_test['item_description'], 5, 500000)"
   ]
  },
  {
   "cell_type": "code",
   "execution_count": 8,
   "id": "636a832d",
   "metadata": {},
   "outputs": [],
   "source": [
    "# Storing categorical features that are already numbers to sparse matrix\n",
    "\n",
    "X_train_cat = csr_matrix(pd.get_dummies(X_train[['item_condition_id', 'shipping']], sparse=True).values)\n",
    "\n",
    "X_test_cat = csr_matrix(pd.get_dummies(X_test[['item_condition_id', 'shipping']], sparse=True).values)"
   ]
  },
  {
   "cell_type": "code",
   "execution_count": 9,
   "id": "7151a80f",
   "metadata": {},
   "outputs": [
    {
     "name": "stdout",
     "output_type": "stream",
     "text": [
      "(1185328, 2) (296333, 2)\n"
     ]
    }
   ],
   "source": [
    "print(X_train_cat.shape, X_test_cat.shape)"
   ]
  },
  {
   "cell_type": "code",
   "execution_count": 10,
   "id": "1331e56b",
   "metadata": {},
   "outputs": [],
   "source": [
    "# stack all categorical and text sparse matrices\n",
    "train_x = hstack((onehot_train_brand, onehot_train_gencat, onehot_train_subcat1, onehot_train_subcat2, \n",
    "                       tfidf_train_name, tfidf_train_description, X_train_cat)).tocsr()\n",
    "test_x = hstack((onehot_test_brand, onehot_test_gencat, onehot_test_subcat1, onehot_test_subcat2, \n",
    "                       tfidf_test_name, tfidf_test_description, X_test_cat)).tocsr()"
   ]
  },
  {
   "cell_type": "code",
   "execution_count": 11,
   "id": "577f5447",
   "metadata": {},
   "outputs": [
    {
     "name": "stdout",
     "output_type": "stream",
     "text": [
      "(1185328, 755935) (296333, 755935)\n"
     ]
    }
   ],
   "source": [
    "print(train_x.shape, test_x.shape)"
   ]
  },
  {
   "cell_type": "code",
   "execution_count": null,
   "id": "1ba646d8",
   "metadata": {},
   "outputs": [],
   "source": []
  },
  {
   "cell_type": "markdown",
   "id": "2491f133",
   "metadata": {},
   "source": [
    "### Ridge Regression"
   ]
  },
  {
   "cell_type": "code",
   "execution_count": 12,
   "id": "25f8dc49",
   "metadata": {
    "scrolled": true
   },
   "outputs": [
    {
     "name": "stderr",
     "output_type": "stream",
     "text": [
      "  0%|                                                                                            | 0/9 [00:00<?, ?it/s]F:\\Desktop\\Classes\\cs4120-hw4\\.venv\\lib\\site-packages\\sklearn\\linear_model\\_ridge.py:830: UserWarning: \"sag\" solver requires many iterations to fit an intercept with sparse inputs. Either set the solver to \"auto\" or \"sparse_cg\", or set a low \"tol\" and a high \"max_iter\" (especially if inputs are not standardized).\n",
      "  warnings.warn(\n",
      " 11%|█████████▏                                                                         | 1/9 [02:23<19:11, 143.92s/it]F:\\Desktop\\Classes\\cs4120-hw4\\.venv\\lib\\site-packages\\sklearn\\linear_model\\_ridge.py:830: UserWarning: \"sag\" solver requires many iterations to fit an intercept with sparse inputs. Either set the solver to \"auto\" or \"sparse_cg\", or set a low \"tol\" and a high \"max_iter\" (especially if inputs are not standardized).\n",
      "  warnings.warn(\n",
      " 22%|██████████████████▍                                                                | 2/9 [03:54<13:07, 112.47s/it]F:\\Desktop\\Classes\\cs4120-hw4\\.venv\\lib\\site-packages\\sklearn\\linear_model\\_ridge.py:830: UserWarning: \"sag\" solver requires many iterations to fit an intercept with sparse inputs. Either set the solver to \"auto\" or \"sparse_cg\", or set a low \"tol\" and a high \"max_iter\" (especially if inputs are not standardized).\n",
      "  warnings.warn(\n",
      " 33%|████████████████████████████                                                        | 3/9 [05:02<09:13, 92.25s/it]F:\\Desktop\\Classes\\cs4120-hw4\\.venv\\lib\\site-packages\\sklearn\\linear_model\\_ridge.py:830: UserWarning: \"sag\" solver requires many iterations to fit an intercept with sparse inputs. Either set the solver to \"auto\" or \"sparse_cg\", or set a low \"tol\" and a high \"max_iter\" (especially if inputs are not standardized).\n",
      "  warnings.warn(\n",
      " 44%|█████████████████████████████████████▎                                              | 4/9 [06:02<06:37, 79.59s/it]F:\\Desktop\\Classes\\cs4120-hw4\\.venv\\lib\\site-packages\\sklearn\\linear_model\\_ridge.py:830: UserWarning: \"sag\" solver requires many iterations to fit an intercept with sparse inputs. Either set the solver to \"auto\" or \"sparse_cg\", or set a low \"tol\" and a high \"max_iter\" (especially if inputs are not standardized).\n",
      "  warnings.warn(\n",
      " 56%|██████████████████████████████████████████████▋                                     | 5/9 [06:58<04:43, 70.95s/it]F:\\Desktop\\Classes\\cs4120-hw4\\.venv\\lib\\site-packages\\sklearn\\linear_model\\_ridge.py:830: UserWarning: \"sag\" solver requires many iterations to fit an intercept with sparse inputs. Either set the solver to \"auto\" or \"sparse_cg\", or set a low \"tol\" and a high \"max_iter\" (especially if inputs are not standardized).\n",
      "  warnings.warn(\n",
      " 67%|████████████████████████████████████████████████████████                            | 6/9 [07:47<03:10, 63.64s/it]F:\\Desktop\\Classes\\cs4120-hw4\\.venv\\lib\\site-packages\\sklearn\\linear_model\\_ridge.py:830: UserWarning: \"sag\" solver requires many iterations to fit an intercept with sparse inputs. Either set the solver to \"auto\" or \"sparse_cg\", or set a low \"tol\" and a high \"max_iter\" (especially if inputs are not standardized).\n",
      "  warnings.warn(\n",
      " 78%|█████████████████████████████████████████████████████████████████▎                  | 7/9 [08:34<01:56, 58.02s/it]F:\\Desktop\\Classes\\cs4120-hw4\\.venv\\lib\\site-packages\\sklearn\\linear_model\\_ridge.py:830: UserWarning: \"sag\" solver requires many iterations to fit an intercept with sparse inputs. Either set the solver to \"auto\" or \"sparse_cg\", or set a low \"tol\" and a high \"max_iter\" (especially if inputs are not standardized).\n",
      "  warnings.warn(\n",
      " 89%|██████████████████████████████████████████████████████████████████████████▋         | 8/9 [09:15<00:52, 52.54s/it]F:\\Desktop\\Classes\\cs4120-hw4\\.venv\\lib\\site-packages\\sklearn\\linear_model\\_ridge.py:830: UserWarning: \"sag\" solver requires many iterations to fit an intercept with sparse inputs. Either set the solver to \"auto\" or \"sparse_cg\", or set a low \"tol\" and a high \"max_iter\" (especially if inputs are not standardized).\n",
      "  warnings.warn(\n",
      "100%|████████████████████████████████████████████████████████████████████████████████████| 9/9 [09:54<00:00, 66.04s/it]"
     ]
    },
    {
     "name": "stdout",
     "output_type": "stream",
     "text": [
      "RMSLE for alpha =  1 is 0.443143070567117\n",
      "RMSLE for alpha =  2 is 0.43805985358439264\n",
      "RMSLE for alpha =  3 is 0.437508664007679\n",
      "RMSLE for alpha =  3.5 is 0.4377504452105116\n",
      "RMSLE for alpha =  4 is 0.43815227171846255\n",
      "RMSLE for alpha =  4.5 is 0.4386530251699621\n",
      "RMSLE for alpha =  5 is 0.4392109054475655\n",
      "RMSLE for alpha =  6 is 0.44041454744644054\n",
      "RMSLE for alpha =  7 is 0.44165225658510726\n"
     ]
    },
    {
     "name": "stderr",
     "output_type": "stream",
     "text": [
      "\n"
     ]
    },
    {
     "data": {
      "image/png": "[encoded data removed]",
      "text/plain": [
       "<Figure size 640x480 with 1 Axes>"
      ]
     },
     "metadata": {},
     "output_type": "display_data"
    }
   ],
   "source": [
    "alpha = [1, 2, 3, 3.5, 4, 4.5, 5, 6, 7] \n",
    "test_rmsle_array=[] \n",
    "for i in tqdm.tqdm(alpha):\n",
    "    model = Ridge(solver=\"sag\", random_state=42, alpha=i)\n",
    "    model.fit(train_x, Y_train)\n",
    "    preds_test = model.predict(test_x)\n",
    "    test_rmsle_array.append(sqrt(mse(Y_test, preds_test)))\n",
    "\n",
    "for i in range(len(test_rmsle_array)):\n",
    "    print ('RMSLE for alpha = ',alpha[i],'is',test_rmsle_array[i])\n",
    "    \n",
    "best_alpha = np.argmin(test_rmsle_array)\n",
    "\n",
    "fig, ax = plt.subplots()\n",
    "ax.plot(alpha, test_rmsle_array)\n",
    "ax.scatter(alpha, test_rmsle_array)\n",
    "for i, txt in enumerate(np.round(test_rmsle_array,3)):\n",
    "    ax.annotate((alpha[i],np.round(txt,3)), (alpha[i],test_rmsle_array[i]))\n",
    "\n",
    "plt.title(\"Cross Validation Error for each alpha\")\n",
    "plt.xlabel(\"Alpha\")\n",
    "plt.ylabel(\"Error\")\n",
    "plt.show()"
   ]
  },
  {
   "cell_type": "code",
   "execution_count": 100,
   "id": "b343f977",
   "metadata": {},
   "outputs": [
    {
     "name": "stdout",
     "output_type": "stream",
     "text": [
      "Best alpha:  3\n"
     ]
    },
    {
     "name": "stderr",
     "output_type": "stream",
     "text": [
      "F:\\Desktop\\Classes\\cs4120-hw4\\.venv\\lib\\site-packages\\sklearn\\linear_model\\_ridge.py:830: UserWarning: \"sag\" solver requires many iterations to fit an intercept with sparse inputs. Either set the solver to \"auto\" or \"sparse_cg\", or set a low \"tol\" and a high \"max_iter\" (especially if inputs are not standardized).\n",
      "  warnings.warn(\n"
     ]
    },
    {
     "name": "stdout",
     "output_type": "stream",
     "text": [
      "Train RMSLE: 0.37399684032095765\n",
      "Test RMSLE:  0.437508664007679\n"
     ]
    }
   ],
   "source": [
    "print(\"Best alpha: \",  alpha[best_alpha])\n",
    "model = Ridge(solver=\"sag\", random_state=42, alpha=alpha[best_alpha])\n",
    "model.fit(train_x, Y_train)\n",
    "ridge_preds_train = model.predict(train_x)\n",
    "ridge_preds_test = model.predict(test_x)\n",
    "\n",
    "print('Train RMSLE:', sqrt(mse(Y_train, ridge_preds_train)))\n",
    "print(\"Test RMSLE: \", sqrt(mse(Y_test, ridge_preds_test)))"
   ]
  },
  {
   "cell_type": "code",
   "execution_count": null,
   "id": "3a44fec8",
   "metadata": {},
   "outputs": [],
   "source": []
  },
  {
   "cell_type": "markdown",
   "id": "bbae2a98",
   "metadata": {},
   "source": [
    "### SGD Regressor"
   ]
  },
  {
   "cell_type": "code",
   "execution_count": 101,
   "id": "bacbc625",
   "metadata": {},
   "outputs": [
    {
     "name": "stdout",
     "output_type": "stream",
     "text": [
      "Train RMSLE: 0.5110285276940384\n",
      "Test RMSLE:  0.5145698683588359\n"
     ]
    }
   ],
   "source": [
    "# SGD Regressor\n",
    "\n",
    "model = SGDRegressor(random_state=42)\n",
    "model.fit(train_x, Y_train)\n",
    "sgd_preds_train = model.predict(train_x)\n",
    "sgd_preds_test = model.predict(test_x)\n",
    "\n",
    "print('Train RMSLE:', sqrt(mse(Y_train, sgd_preds_train)))\n",
    "print(\"Test RMSLE: \", sqrt(mse(Y_test, sgd_preds_test)))"
   ]
  },
  {
   "cell_type": "code",
   "execution_count": 44,
   "id": "99ca6beb",
   "metadata": {},
   "outputs": [],
   "source": [
    "from typing import List, Tuple, Union\n",
    "from torch import nn, optim\n",
    "from torch.utils.data import DataLoader, Dataset\n",
    "from torch.nn import Linear, ReLU\n",
    "import math\n",
    "\n",
    "class DNN(nn.Module):\n",
    "    def __init__(self, layer_sizes: List[int]):\n",
    "        \"\"\"\n",
    "        The first layer size is the input dimension, and the last layer size is the output dimension.\n",
    "        :param layer_sizes:\n",
    "        \"\"\"\n",
    "        super(DNN, self).__init__()\n",
    "\n",
    "        self.layers = nn.ModuleList()\n",
    "\n",
    "        for i in range(0, len(layer_sizes) - 1):\n",
    "            self.layers.append(Linear(in_features=layer_sizes[i],\n",
    "                                      out_features=layer_sizes[i + 1]))\n",
    "            self.layers.append(ReLU())\n",
    "\n",
    "    def forward(self, x: torch.Tensor):\n",
    "        for layer in self.layers:\n",
    "            # print(f'Layer {layer} with input size {x.size()}')\n",
    "            x = layer(x)\n",
    "        return x"
   ]
  },
  {
   "cell_type": "code",
   "execution_count": 175,
   "id": "f7520b2b",
   "metadata": {},
   "outputs": [],
   "source": [
    "class SparseDataset(Dataset):\n",
    "    \"\"\"\n",
    "    Custom Dataset class for scipy sparse matrix\n",
    "    \"\"\"\n",
    "\n",
    "    def __init__(self, x, y):\n",
    "        # Transform data coo_matrix to csr_matrix for indexing\n",
    "        # if type(data) == coo_matrix:\n",
    "        #     self.data = data.tocsr()\n",
    "        # else:\n",
    "        self.x = torch.tensor(x, dtype=torch.float32)\n",
    "        self.y = torch.tensor(y, dtype=torch.float32)\n",
    "        self.length = self.x.shape[0]\n",
    "        # Transform targets coo_matrix to csr_matrix for indexing\n",
    "        # if type(targets) == coo_matrix:\n",
    "        #     self.targets = targets.tocsr()\n",
    "        # else:\n",
    "\n",
    "    def __getitem__(self, index: int):\n",
    "        # return self.data[index], self.targets[index]\n",
    "#         x = self.data.getrow(index) if self.datatype == csr_matrix else self.data[index]\n",
    "#         y = self.targets.getrow(index) if self.targettype == csr_matrix else self.targets[index]\n",
    "#         return x, y\n",
    "        return self.x[index], self.y[index]\n",
    "\n",
    "    def __len__(self):\n",
    "#         return self.data.shape[0]\n",
    "        return self.length"
   ]
  },
  {
   "cell_type": "code",
   "execution_count": 176,
   "id": "15708026",
   "metadata": {},
   "outputs": [],
   "source": [
    "def train_model(model, train: Tuple[csr_matrix, np.ndarray], test: Tuple[csr_matrix, np.ndarray], \n",
    "                batch_size: int, epochs: int):\n",
    "    train_dataloader = DataLoader(SparseDataset(train[0], train[1]), batch_size=batch_size, shuffle=True)\n",
    "    test_dataloader = DataLoader(SparseDataset(test[0], test[1]), batch_size=batch_size, shuffle=True)\n",
    "    optimizer = optim.Adam(model.parameters())\n",
    "    \n",
    "    for j in range(epochs):\n",
    "        display = tqdm.trange(epochs)\n",
    "        train_losses = []\n",
    "        test_losses = []\n",
    "        running_loss = 0.0\n",
    "        for i, (x_train,y_train) in enumerate(train_dataloader):\n",
    "            y_pred = model(x_train)\n",
    "            \n",
    "            _,predicted = torch.max(y_pred.data, 1)\n",
    "            \n",
    "            loss = nn.MSELoss()(y_pred,y_train)\n",
    "            optimizer.zero_grad()\n",
    "            loss.backward()\n",
    "            optimizer.step()\n",
    "            running_loss += loss.item()\n",
    "        train_losses.append(running_loss/len(train_dataloader))\n",
    "        \n",
    "        running_loss = 0\n",
    "        with torch.no_grad():\n",
    "            for i, (x_train,y_train) in enumerate(test_dataloader):\n",
    "                y_pred = model(x_train)\n",
    "                _,predicted = torch.max(y_pred.data, 1)\n",
    "                \n",
    "                loss = nn.MSELoss()(y_pred,y_train)\n",
    "                running_loss += loss.item()\n",
    "        \n",
    "            test_losses.append(running_loss/len(test_dataloader))\n",
    "        display.set_description(f'Test loss: {running_loss/len(test_dataloader):.5}')\n",
    "    return train_losses, test_losses\n",
    "\n",
    "def evaluate_model(model, dataset: Tuple[csr_matrix, np.ndarray]) -> float:\n",
    "    X, Y = dataset\n",
    "    X_tens, Y_tens = torch.as_tensor(X.todense(), dtype=torch.float32), torch.as_tensor(Y, dtype=torch.float32)\n",
    "\n",
    "    with torch.no_grad():\n",
    "        raw_pred = model(X_tens)\n",
    "        predictions = np.array(torch.argmax(raw_pred, dim=1))\n",
    "\n",
    "    loss = torch.nn.MSELoss()(predictions, Y_tens)\n",
    "    return loss.item()"
   ]
  },
  {
   "cell_type": "code",
   "execution_count": null,
   "id": "6dedb3da",
   "metadata": {},
   "outputs": [],
   "source": []
  },
  {
   "cell_type": "markdown",
   "id": "d5574904",
   "metadata": {},
   "source": [
    "### MLP Regressor"
   ]
  },
  {
   "cell_type": "code",
   "execution_count": 12,
   "id": "a9a86376",
   "metadata": {},
   "outputs": [],
   "source": [
    "from sklearn.neural_network import MLPRegressor"
   ]
  },
  {
   "cell_type": "code",
   "execution_count": 112,
   "id": "4e6f665e",
   "metadata": {
    "scrolled": true
   },
   "outputs": [
    {
     "name": "stderr",
     "output_type": "stream",
     "text": [
      "<timed exec>:5: FutureWarning: The behavior of `series[i:j]` with an integer-dtype index is deprecated. In a future version, this will be treated as *label-based* indexing, consistent with e.g. `series[i]` lookups. To retain the old behavior, use `series.iloc[i:j]`. To get the future behavior, use `series.loc[i:j]`.\n"
     ]
    },
    {
     "name": "stdout",
     "output_type": "stream",
     "text": [
      "Iteration 1, loss = 1.25257955\n",
      "Iteration 2, loss = 0.18665923\n",
      "Iteration 3, loss = 0.08466603\n",
      "Iteration 4, loss = 0.03728112\n",
      "Iteration 5, loss = 0.01772042\n",
      "Iteration 6, loss = 0.01116509\n",
      "Iteration 7, loss = 0.00963622\n",
      "Iteration 8, loss = 0.00910508\n",
      "Iteration 9, loss = 0.00898429\n",
      "Iteration 10, loss = 0.00842647\n",
      "Iteration 11, loss = 0.00800352\n",
      "Iteration 12, loss = 0.00699192\n",
      "Iteration 13, loss = 0.00644599\n",
      "Iteration 14, loss = 0.00591140\n",
      "Iteration 15, loss = 0.00540948\n",
      "Iteration 16, loss = 0.00504242\n",
      "Iteration 17, loss = 0.00468713\n",
      "Iteration 18, loss = 0.00447729\n",
      "Iteration 19, loss = 0.00426287\n",
      "Iteration 20, loss = 0.00404494\n",
      "Iteration 21, loss = 0.00392797\n",
      "Iteration 22, loss = 0.00387956\n",
      "Iteration 23, loss = 0.00385108\n",
      "Iteration 24, loss = 0.00372794\n",
      "Iteration 25, loss = 0.00375177\n",
      "Iteration 26, loss = 0.00368067\n",
      "Iteration 27, loss = 0.00346473\n",
      "Iteration 28, loss = 0.00334771\n",
      "Iteration 29, loss = 0.00309430\n",
      "Iteration 30, loss = 0.00291876\n",
      "Iteration 31, loss = 0.00283305\n",
      "Iteration 32, loss = 0.00277641\n",
      "Iteration 33, loss = 0.00276776\n",
      "Iteration 34, loss = 0.00276711\n",
      "Iteration 35, loss = 0.00281921\n",
      "Iteration 36, loss = 0.00286914\n",
      "Iteration 37, loss = 0.00272386\n",
      "Iteration 38, loss = 0.00267261\n",
      "Iteration 39, loss = 0.00263578\n",
      "Iteration 40, loss = 0.00268832\n",
      "Iteration 41, loss = 0.00259090\n",
      "Training loss did not improve more than tol=0.000100 for 10 consecutive epochs. Stopping.\n",
      "Train RMSLE: 0.5776627347511382\n",
      "Test RMSLE:  0.580004555931751\n",
      "CPU times: total: 52min 30s\n",
      "Wall time: 51min 4s\n"
     ]
    }
   ],
   "source": [
    "%%time\n",
    "# Using only 10000 samples due to computation time\n",
    "\n",
    "mlp = MLPRegressor(hidden_layer_sizes=(64,64,64), activation=\"relu\", random_state=1, max_iter=200, verbose=True)\n",
    "\n",
    "mlp.fit(train_x[:10000],Y_train[:10000])\n",
    "\n",
    "mlp_preds_train = mlp.predict(train_x)\n",
    "mlp_preds_test = mlp.predict(test_x)\n",
    "\n",
    "print('Train RMSLE:', sqrt(mse(Y_train, mlp_preds_train)))\n",
    "print(\"Test RMSLE: \", sqrt(mse(Y_test, mlp_preds_test)))"
   ]
  },
  {
   "cell_type": "code",
   "execution_count": 108,
   "id": "0f2da100",
   "metadata": {
    "scrolled": true
   },
   "outputs": [
    {
     "name": "stderr",
     "output_type": "stream",
     "text": [
      "<timed exec>:5: FutureWarning: The behavior of `series[i:j]` with an integer-dtype index is deprecated. In a future version, this will be treated as *label-based* indexing, consistent with e.g. `series[i]` lookups. To retain the old behavior, use `series.iloc[i:j]`. To get the future behavior, use `series.loc[i:j]`.\n"
     ]
    },
    {
     "name": "stdout",
     "output_type": "stream",
     "text": [
      "Iteration 1, loss = 3.23628260\n",
      "Iteration 2, loss = 1.37516803\n",
      "Iteration 3, loss = 0.40521143\n",
      "Iteration 4, loss = 0.30906251\n",
      "Iteration 5, loss = 0.22056364\n",
      "Iteration 6, loss = 0.16257909\n",
      "Iteration 7, loss = 0.13316035\n",
      "Iteration 8, loss = 0.10974396\n",
      "Iteration 9, loss = 0.09092444\n",
      "Iteration 10, loss = 0.07576246\n",
      "Iteration 11, loss = 0.06335074\n",
      "Iteration 12, loss = 0.05272056\n",
      "Iteration 13, loss = 0.04390189\n",
      "Iteration 14, loss = 0.03640429\n",
      "Iteration 15, loss = 0.02976699\n",
      "Iteration 16, loss = 0.02392872\n",
      "Iteration 17, loss = 0.01895557\n",
      "Iteration 18, loss = 0.01496367\n",
      "Iteration 19, loss = 0.01188738\n",
      "Iteration 20, loss = 0.00952448\n",
      "Iteration 21, loss = 0.00776971\n",
      "Iteration 22, loss = 0.00645420\n",
      "Iteration 23, loss = 0.00543322\n",
      "Iteration 24, loss = 0.00466833\n",
      "Iteration 25, loss = 0.00408526\n",
      "Iteration 26, loss = 0.00362376\n",
      "Iteration 27, loss = 0.00325250\n",
      "Iteration 28, loss = 0.00295199\n",
      "Iteration 29, loss = 0.00270862\n",
      "Iteration 30, loss = 0.00252408\n",
      "Iteration 31, loss = 0.00236268\n",
      "Iteration 32, loss = 0.00223016\n",
      "Iteration 33, loss = 0.00211456\n",
      "Iteration 34, loss = 0.00204123\n",
      "Iteration 35, loss = 0.00196403\n",
      "Iteration 36, loss = 0.00189314\n",
      "Iteration 37, loss = 0.00184835\n",
      "Iteration 38, loss = 0.00179312\n",
      "Iteration 39, loss = 0.00175135\n",
      "Iteration 40, loss = 0.00173618\n",
      "Iteration 41, loss = 0.00172512\n",
      "Iteration 42, loss = 0.00169829\n",
      "Iteration 43, loss = 0.00167228\n",
      "Iteration 44, loss = 0.00167008\n",
      "Training loss did not improve more than tol=0.000100 for 10 consecutive epochs. Stopping.\n",
      "Train RMSLE: 0.5463082718829101\n",
      "Test RMSLE:  0.5705565737459884\n",
      "CPU times: total: 13min 30s\n",
      "Wall time: 12min 43s\n"
     ]
    }
   ],
   "source": [
    "%%time\n",
    "# Using 100000 samples with batch size of 10000 due to computation time\n",
    "\n",
    "mlp = MLPRegressor(hidden_layer_sizes=(64,64,64), activation=\"relu\", batch_size=10000, random_state=1, max_iter=200, verbose=True)\n",
    "\n",
    "mlp.fit(train_x[:100000],Y_train[:100000])\n",
    "\n",
    "mlp_preds_train = mlp.predict(train_x)\n",
    "mlp_preds_test = mlp.predict(test_x)\n",
    "\n",
    "print('Train RMSLE:', sqrt(mse(Y_train, mlp_preds_train)))\n",
    "print(\"Test RMSLE: \", sqrt(mse(Y_test, mlp_preds_test)))"
   ]
  },
  {
   "cell_type": "code",
   "execution_count": 113,
   "id": "b848fb33",
   "metadata": {
    "scrolled": true
   },
   "outputs": [
    {
     "name": "stdout",
     "output_type": "stream",
     "text": [
      "Iteration 1, loss = 1.96490346\n",
      "Iteration 2, loss = 0.31538129\n",
      "Iteration 3, loss = 0.16724672\n",
      "Iteration 4, loss = 0.12584707\n",
      "Iteration 5, loss = 0.10440702\n",
      "Iteration 6, loss = 0.09105322\n",
      "Iteration 7, loss = 0.08091964\n",
      "Iteration 8, loss = 0.07184150\n",
      "Iteration 9, loss = 0.06470138\n",
      "Iteration 10, loss = 0.05938845\n",
      "Iteration 11, loss = 0.05536580\n",
      "Iteration 12, loss = 0.05211436\n",
      "Iteration 13, loss = 0.04930886\n",
      "Iteration 14, loss = 0.04680511\n",
      "Iteration 15, loss = 0.04446855\n",
      "Iteration 16, loss = 0.04226577\n",
      "Iteration 17, loss = 0.04016985\n",
      "Iteration 18, loss = 0.03812141\n",
      "Iteration 19, loss = 0.03614195\n",
      "Iteration 20, loss = 0.03424658\n",
      "Iteration 21, loss = 0.03240474\n",
      "Iteration 22, loss = 0.03065859\n",
      "Iteration 23, loss = 0.02898709\n",
      "Iteration 24, loss = 0.02743660\n",
      "Iteration 25, loss = 0.02599316\n",
      "Iteration 26, loss = 0.02456834\n",
      "Iteration 27, loss = 0.02326330\n",
      "Iteration 28, loss = 0.02208562\n",
      "Iteration 29, loss = 0.02096315\n",
      "Iteration 30, loss = 0.01996658\n",
      "Iteration 31, loss = 0.01900421\n",
      "Iteration 32, loss = 0.01812720\n",
      "Iteration 33, loss = 0.01731471\n",
      "Iteration 34, loss = 0.01654527\n",
      "Iteration 35, loss = 0.01589470\n",
      "Iteration 36, loss = 0.01516205\n",
      "Iteration 37, loss = 0.01453106\n",
      "Iteration 38, loss = 0.01389326\n",
      "Iteration 39, loss = 0.01332389\n",
      "Iteration 40, loss = 0.01279857\n",
      "Iteration 41, loss = 0.01227379\n",
      "Iteration 42, loss = 0.01160373\n",
      "Iteration 43, loss = 0.01105477\n",
      "Iteration 44, loss = 0.01060805\n",
      "Iteration 45, loss = 0.01016028\n",
      "Iteration 46, loss = 0.00972264\n",
      "Iteration 47, loss = 0.00921769\n",
      "Iteration 48, loss = 0.00884033\n",
      "Iteration 49, loss = 0.00846979\n",
      "Iteration 50, loss = 0.00812177\n",
      "Iteration 51, loss = 0.00782352\n",
      "Iteration 52, loss = 0.00754318\n",
      "Iteration 53, loss = 0.00732184\n",
      "Iteration 54, loss = 0.00702552\n",
      "Iteration 55, loss = 0.00675067\n",
      "Iteration 56, loss = 0.00655175\n",
      "Iteration 57, loss = 0.00631878\n",
      "Iteration 58, loss = 0.00611382\n",
      "Iteration 59, loss = 0.00598170\n",
      "Iteration 60, loss = 0.00582913\n",
      "Iteration 61, loss = 0.00566036\n",
      "Iteration 62, loss = 0.00558585\n",
      "Iteration 63, loss = 0.00545687\n",
      "Iteration 64, loss = 0.00529056\n",
      "Iteration 65, loss = 0.00517608\n",
      "Iteration 66, loss = 0.00504709\n",
      "Iteration 67, loss = 0.00495998\n",
      "Iteration 68, loss = 0.00485526\n",
      "Iteration 69, loss = 0.00476173\n",
      "Iteration 70, loss = 0.00470606\n",
      "Iteration 71, loss = 0.00469396\n",
      "Iteration 72, loss = 0.00466071\n",
      "Iteration 73, loss = 0.00458934\n",
      "Iteration 74, loss = 0.00451792\n",
      "Iteration 75, loss = 0.00441267\n",
      "Iteration 76, loss = 0.00431995\n",
      "Iteration 77, loss = 0.00423052\n",
      "Iteration 78, loss = 0.00416656\n",
      "Iteration 79, loss = 0.00418315\n",
      "Iteration 80, loss = 0.00413648\n",
      "Iteration 81, loss = 0.00408420\n",
      "Iteration 82, loss = 0.00400759\n",
      "Iteration 83, loss = 0.00395290\n",
      "Iteration 84, loss = 0.00390733\n",
      "Iteration 85, loss = 0.00387647\n",
      "Iteration 86, loss = 0.00388126\n",
      "Training loss did not improve more than tol=0.000100 for 10 consecutive epochs. Stopping.\n",
      "Train RMSLE: 0.08367141523752307\n",
      "Test RMSLE:  0.6162933328820218\n",
      "CPU times: total: 1h 34min 29s\n",
      "Wall time: 1h 14min 9s\n"
     ]
    }
   ],
   "source": [
    "%%time\n",
    "# Using all samples with batch size of 50000 due to computation time\n",
    "\n",
    "mlp = MLPRegressor(hidden_layer_sizes=(64,64,64), activation=\"relu\", batch_size=50000, random_state=1, max_iter=200, verbose=True)\n",
    "\n",
    "mlp.fit(train_x,Y_train)\n",
    "\n",
    "mlp_preds_train = mlp.predict(train_x)\n",
    "mlp_preds_test = mlp.predict(test_x)\n",
    "\n",
    "print('Train RMSLE:', sqrt(mse(Y_train, mlp_preds_train)))\n",
    "print(\"Test RMSLE: \", sqrt(mse(Y_test, mlp_preds_test)))"
   ]
  },
  {
   "cell_type": "code",
   "execution_count": null,
   "id": "c6f8d19f",
   "metadata": {},
   "outputs": [],
   "source": []
  },
  {
   "cell_type": "markdown",
   "id": "7ff8ff40",
   "metadata": {},
   "source": [
    "Citations:\n",
    "\n",
    "https://towardsdatascience.com/mercari-price-suggestion-97ff15840dbd"
   ]
  },
  {
   "cell_type": "code",
   "execution_count": null,
   "id": "337913aa",
   "metadata": {},
   "outputs": [],
   "source": []
  }
 ],
 "metadata": {
  "kernelspec": {
   "display_name": "Python 3 (ipykernel)",
   "language": "python",
   "name": "python3"
  },
  "language_info": {
   "codemirror_mode": {
    "name": "ipython",
    "version": 3
   },
   "file_extension": ".py",
   "mimetype": "text/x-python",
   "name": "python",
   "nbconvert_exporter": "python",
   "pygments_lexer": "ipython3",
   "version": "3.10.6"
  }
 },
 "nbformat": 4,
 "nbformat_minor": 5
}
