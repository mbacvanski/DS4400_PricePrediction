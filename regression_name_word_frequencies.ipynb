{
 "cells": [
  {
   "cell_type": "markdown",
   "source": [
    "# Data Exploration"
   ],
   "metadata": {
    "collapsed": false
   }
  },
  {
   "cell_type": "code",
   "execution_count": 18,
   "outputs": [],
   "source": [
    "import pandas as pd\n",
    "import numpy as np"
   ],
   "metadata": {
    "collapsed": false
   }
  },
  {
   "cell_type": "code",
   "execution_count": 101,
   "outputs": [],
   "source": [
    "from sklearn.model_selection import train_test_split\n",
    "dataset = pd.read_csv('data/train.tsv', sep='\\t', header=0)\n",
    "X = dataset.loc[:, dataset.columns != 'price']\n",
    "Y = dataset.price\n",
    "\n",
    "# 80% training data, 20% test data\n",
    "X_train, X_test, Y_train, Y_test = train_test_split(X, Y, test_size=0.2, random_state=0)"
   ],
   "metadata": {
    "collapsed": false
   }
  },
  {
   "cell_type": "code",
   "execution_count": 102,
   "outputs": [
    {
     "data": {
      "text/plain": "         train_id                           name  item_condition_id  \\\n604635     604635                           Enzo                  3   \n496799     496799                    Black dress                  3   \n1035231   1035231           2 items for Brittany                  1   \n628659     628659                    Texas budle                  2   \n261459     261459           North face rain coat                  3   \n...           ...                            ...                ...   \n359783     359783            LuLaRoe Leggings OS                  2   \n152315     152315             Lularoe 2 XL Carly                  1   \n963395     963395                    Coach Poppy                  2   \n117952     117952  Micheal Kors beanie and scarf                  1   \n305711     305711                   NASCAR VISOR                  1   \n\n                                             category_name      brand_name  \\\n604635                           Women/Shoes/Mules & Clogs             NaN   \n496799                           Women/Dresses/Full-Length             NaN   \n1035231  Electronics/Cell Phones & Accessories/Cables &...             NaN   \n628659                       Women/Tops & Blouses/T-Shirts             NaN   \n261459                      Women/Athletic Apparel/Jackets  The North Face   \n...                                                    ...             ...   \n359783      Women/Athletic Apparel/Pants, Tights, Leggings     Independent   \n152315                      Women/Dresses/Asymmetrical Hem         LuLaRoe   \n963395                   Women/Women's Accessories/Wallets             NaN   \n117952           Women/Women's Accessories/Scarves & Wraps    Michael Kors   \n305711                          Men/Men's Accessories/Hats          NASCAR   \n\n         shipping                                   item_description  \n604635          0  Enzo Angiolini Mules/Clogs. Super Cute with so...  \n496799          1  Xl long black dress Solid under with lace over...  \n1035231         0  - Urban Decay Eyeshadow This has never been us...  \n628659          0                               Very cute!! No flaws  \n261459          0  Sea foam green rain coat Size 18 XL in youth I...  \n...           ...                                                ...  \n359783          1                          Solid Mustard OS leggings  \n152315          0                     New with tags Non smoking home  \n963395          0  This gorgeous medium size bag is like new I us...  \n117952          1                              All new and authentic  \n305711          1                    Brand new wth tag NASCAR visor.  \n\n[1186028 rows x 7 columns]",
      "text/html": "<div>\n<style scoped>\n    .dataframe tbody tr th:only-of-type {\n        vertical-align: middle;\n    }\n\n    .dataframe tbody tr th {\n        vertical-align: top;\n    }\n\n    .dataframe thead th {\n        text-align: right;\n    }\n</style>\n<table border=\"1\" class=\"dataframe\">\n  <thead>\n    <tr style=\"text-align: right;\">\n      <th></th>\n      <th>train_id</th>\n      <th>name</th>\n      <th>item_condition_id</th>\n      <th>category_name</th>\n      <th>brand_name</th>\n      <th>shipping</th>\n      <th>item_description</th>\n    </tr>\n  </thead>\n  <tbody>\n    <tr>\n      <th>604635</th>\n      <td>604635</td>\n      <td>Enzo</td>\n      <td>3</td>\n      <td>Women/Shoes/Mules &amp; Clogs</td>\n      <td>NaN</td>\n      <td>0</td>\n      <td>Enzo Angiolini Mules/Clogs. Super Cute with so...</td>\n    </tr>\n    <tr>\n      <th>496799</th>\n      <td>496799</td>\n      <td>Black dress</td>\n      <td>3</td>\n      <td>Women/Dresses/Full-Length</td>\n      <td>NaN</td>\n      <td>1</td>\n      <td>Xl long black dress Solid under with lace over...</td>\n    </tr>\n    <tr>\n      <th>1035231</th>\n      <td>1035231</td>\n      <td>2 items for Brittany</td>\n      <td>1</td>\n      <td>Electronics/Cell Phones &amp; Accessories/Cables &amp;...</td>\n      <td>NaN</td>\n      <td>0</td>\n      <td>- Urban Decay Eyeshadow This has never been us...</td>\n    </tr>\n    <tr>\n      <th>628659</th>\n      <td>628659</td>\n      <td>Texas budle</td>\n      <td>2</td>\n      <td>Women/Tops &amp; Blouses/T-Shirts</td>\n      <td>NaN</td>\n      <td>0</td>\n      <td>Very cute!! No flaws</td>\n    </tr>\n    <tr>\n      <th>261459</th>\n      <td>261459</td>\n      <td>North face rain coat</td>\n      <td>3</td>\n      <td>Women/Athletic Apparel/Jackets</td>\n      <td>The North Face</td>\n      <td>0</td>\n      <td>Sea foam green rain coat Size 18 XL in youth I...</td>\n    </tr>\n    <tr>\n      <th>...</th>\n      <td>...</td>\n      <td>...</td>\n      <td>...</td>\n      <td>...</td>\n      <td>...</td>\n      <td>...</td>\n      <td>...</td>\n    </tr>\n    <tr>\n      <th>359783</th>\n      <td>359783</td>\n      <td>LuLaRoe Leggings OS</td>\n      <td>2</td>\n      <td>Women/Athletic Apparel/Pants, Tights, Leggings</td>\n      <td>Independent</td>\n      <td>1</td>\n      <td>Solid Mustard OS leggings</td>\n    </tr>\n    <tr>\n      <th>152315</th>\n      <td>152315</td>\n      <td>Lularoe 2 XL Carly</td>\n      <td>1</td>\n      <td>Women/Dresses/Asymmetrical Hem</td>\n      <td>LuLaRoe</td>\n      <td>0</td>\n      <td>New with tags Non smoking home</td>\n    </tr>\n    <tr>\n      <th>963395</th>\n      <td>963395</td>\n      <td>Coach Poppy</td>\n      <td>2</td>\n      <td>Women/Women's Accessories/Wallets</td>\n      <td>NaN</td>\n      <td>0</td>\n      <td>This gorgeous medium size bag is like new I us...</td>\n    </tr>\n    <tr>\n      <th>117952</th>\n      <td>117952</td>\n      <td>Micheal Kors beanie and scarf</td>\n      <td>1</td>\n      <td>Women/Women's Accessories/Scarves &amp; Wraps</td>\n      <td>Michael Kors</td>\n      <td>1</td>\n      <td>All new and authentic</td>\n    </tr>\n    <tr>\n      <th>305711</th>\n      <td>305711</td>\n      <td>NASCAR VISOR</td>\n      <td>1</td>\n      <td>Men/Men's Accessories/Hats</td>\n      <td>NASCAR</td>\n      <td>1</td>\n      <td>Brand new wth tag NASCAR visor.</td>\n    </tr>\n  </tbody>\n</table>\n<p>1186028 rows × 7 columns</p>\n</div>"
     },
     "execution_count": 102,
     "metadata": {},
     "output_type": "execute_result"
    }
   ],
   "source": [
    "X_train"
   ],
   "metadata": {
    "collapsed": false
   }
  },
  {
   "cell_type": "code",
   "execution_count": 103,
   "outputs": [
    {
     "data": {
      "text/plain": "           train_id  item_condition_id      shipping\ncount  1.186028e+06       1.186028e+06  1.186028e+06\nmean   7.409090e+05       1.907610e+00  4.473031e-01\nstd    4.280731e+05       9.032736e-01  4.972155e-01\nmin    0.000000e+00       1.000000e+00  0.000000e+00\n25%    3.702618e+05       1.000000e+00  0.000000e+00\n50%    7.405335e+05       2.000000e+00  0.000000e+00\n75%    1.111653e+06       3.000000e+00  1.000000e+00\nmax    1.482533e+06       5.000000e+00  1.000000e+00",
      "text/html": "<div>\n<style scoped>\n    .dataframe tbody tr th:only-of-type {\n        vertical-align: middle;\n    }\n\n    .dataframe tbody tr th {\n        vertical-align: top;\n    }\n\n    .dataframe thead th {\n        text-align: right;\n    }\n</style>\n<table border=\"1\" class=\"dataframe\">\n  <thead>\n    <tr style=\"text-align: right;\">\n      <th></th>\n      <th>train_id</th>\n      <th>item_condition_id</th>\n      <th>shipping</th>\n    </tr>\n  </thead>\n  <tbody>\n    <tr>\n      <th>count</th>\n      <td>1.186028e+06</td>\n      <td>1.186028e+06</td>\n      <td>1.186028e+06</td>\n    </tr>\n    <tr>\n      <th>mean</th>\n      <td>7.409090e+05</td>\n      <td>1.907610e+00</td>\n      <td>4.473031e-01</td>\n    </tr>\n    <tr>\n      <th>std</th>\n      <td>4.280731e+05</td>\n      <td>9.032736e-01</td>\n      <td>4.972155e-01</td>\n    </tr>\n    <tr>\n      <th>min</th>\n      <td>0.000000e+00</td>\n      <td>1.000000e+00</td>\n      <td>0.000000e+00</td>\n    </tr>\n    <tr>\n      <th>25%</th>\n      <td>3.702618e+05</td>\n      <td>1.000000e+00</td>\n      <td>0.000000e+00</td>\n    </tr>\n    <tr>\n      <th>50%</th>\n      <td>7.405335e+05</td>\n      <td>2.000000e+00</td>\n      <td>0.000000e+00</td>\n    </tr>\n    <tr>\n      <th>75%</th>\n      <td>1.111653e+06</td>\n      <td>3.000000e+00</td>\n      <td>1.000000e+00</td>\n    </tr>\n    <tr>\n      <th>max</th>\n      <td>1.482533e+06</td>\n      <td>5.000000e+00</td>\n      <td>1.000000e+00</td>\n    </tr>\n  </tbody>\n</table>\n</div>"
     },
     "execution_count": 103,
     "metadata": {},
     "output_type": "execute_result"
    }
   ],
   "source": [
    "X_train.describe()"
   ],
   "metadata": {
    "collapsed": false
   }
  },
  {
   "cell_type": "code",
   "execution_count": 109,
   "outputs": [
    {
     "data": {
      "text/plain": "604635     26.0\n496799     16.0\n1035231    14.0\n628659      7.0\n261459     51.0\n           ... \n359783     18.0\n152315     37.0\n963395     66.0\n117952     28.0\n305711      6.0\nName: price, Length: 1186028, dtype: float64"
     },
     "execution_count": 109,
     "metadata": {},
     "output_type": "execute_result"
    }
   ],
   "source": [
    "Y_train"
   ],
   "metadata": {
    "collapsed": false
   }
  },
  {
   "cell_type": "code",
   "execution_count": 104,
   "outputs": [
    {
     "name": "stdout",
     "output_type": "stream",
     "text": [
      "There are 1272 including:\n",
      "Men/Blazers & Sport Coats/Double Breasted\n",
      "Sports & Outdoors/Fan Shop/NCAA\n",
      "Kids/Gear/Activity Centers & Entertainers\n",
      "Women/Tops & Blouses/Blouse\n",
      "Men/Tops/Button-Front\n",
      "Men/Coats & Jackets/Poncho\n",
      "Home/Kitchen & Dining/Water Coolers & Filters\n",
      "Women/Pants/Casual Pants\n",
      "Beauty/Bath & Body/Other\n",
      "Men/Athletic Apparel/Jerseys\n"
     ]
    }
   ],
   "source": [
    "categories = sorted([str(c) for c in set(X_train.category_name)])\n",
    "print(f'There are {len(categories)} including:')\n",
    "print(\"\\n\".join(np.random.choice(categories, 10)))"
   ],
   "metadata": {
    "collapsed": false
   }
  },
  {
   "cell_type": "code",
   "execution_count": 105,
   "outputs": [],
   "source": [
    "from sklearn.feature_extraction.text import CountVectorizer\n",
    "count_vect = CountVectorizer()\n",
    "X_train_counts = count_vect.fit_transform(X_train.name)"
   ],
   "metadata": {
    "collapsed": false
   }
  },
  {
   "cell_type": "markdown",
   "source": [
    "Counts are good but frequency is better to account for discrepencies in name length."
   ],
   "metadata": {
    "collapsed": false
   }
  },
  {
   "cell_type": "code",
   "execution_count": 108,
   "outputs": [],
   "source": [
    "from sklearn.feature_extraction.text import TfidfTransformer\n",
    "\n",
    "tfidf_transformer = TfidfTransformer()\n",
    "X_train_tfidf = tfidf_transformer.fit_transform(X_train_counts)"
   ],
   "metadata": {
    "collapsed": false
   }
  },
  {
   "cell_type": "code",
   "execution_count": 111,
   "outputs": [
    {
     "data": {
      "text/plain": "LinearRegression()",
      "text/html": "<style>#sk-container-id-3 {color: black;background-color: white;}#sk-container-id-3 pre{padding: 0;}#sk-container-id-3 div.sk-toggleable {background-color: white;}#sk-container-id-3 label.sk-toggleable__label {cursor: pointer;display: block;width: 100%;margin-bottom: 0;padding: 0.3em;box-sizing: border-box;text-align: center;}#sk-container-id-3 label.sk-toggleable__label-arrow:before {content: \"▸\";float: left;margin-right: 0.25em;color: #696969;}#sk-container-id-3 label.sk-toggleable__label-arrow:hover:before {color: black;}#sk-container-id-3 div.sk-estimator:hover label.sk-toggleable__label-arrow:before {color: black;}#sk-container-id-3 div.sk-toggleable__content {max-height: 0;max-width: 0;overflow: hidden;text-align: left;background-color: #f0f8ff;}#sk-container-id-3 div.sk-toggleable__content pre {margin: 0.2em;color: black;border-radius: 0.25em;background-color: #f0f8ff;}#sk-container-id-3 input.sk-toggleable__control:checked~div.sk-toggleable__content {max-height: 200px;max-width: 100%;overflow: auto;}#sk-container-id-3 input.sk-toggleable__control:checked~label.sk-toggleable__label-arrow:before {content: \"▾\";}#sk-container-id-3 div.sk-estimator input.sk-toggleable__control:checked~label.sk-toggleable__label {background-color: #d4ebff;}#sk-container-id-3 div.sk-label input.sk-toggleable__control:checked~label.sk-toggleable__label {background-color: #d4ebff;}#sk-container-id-3 input.sk-hidden--visually {border: 0;clip: rect(1px 1px 1px 1px);clip: rect(1px, 1px, 1px, 1px);height: 1px;margin: -1px;overflow: hidden;padding: 0;position: absolute;width: 1px;}#sk-container-id-3 div.sk-estimator {font-family: monospace;background-color: #f0f8ff;border: 1px dotted black;border-radius: 0.25em;box-sizing: border-box;margin-bottom: 0.5em;}#sk-container-id-3 div.sk-estimator:hover {background-color: #d4ebff;}#sk-container-id-3 div.sk-parallel-item::after {content: \"\";width: 100%;border-bottom: 1px solid gray;flex-grow: 1;}#sk-container-id-3 div.sk-label:hover label.sk-toggleable__label {background-color: #d4ebff;}#sk-container-id-3 div.sk-serial::before {content: \"\";position: absolute;border-left: 1px solid gray;box-sizing: border-box;top: 0;bottom: 0;left: 50%;z-index: 0;}#sk-container-id-3 div.sk-serial {display: flex;flex-direction: column;align-items: center;background-color: white;padding-right: 0.2em;padding-left: 0.2em;position: relative;}#sk-container-id-3 div.sk-item {position: relative;z-index: 1;}#sk-container-id-3 div.sk-parallel {display: flex;align-items: stretch;justify-content: center;background-color: white;position: relative;}#sk-container-id-3 div.sk-item::before, #sk-container-id-3 div.sk-parallel-item::before {content: \"\";position: absolute;border-left: 1px solid gray;box-sizing: border-box;top: 0;bottom: 0;left: 50%;z-index: -1;}#sk-container-id-3 div.sk-parallel-item {display: flex;flex-direction: column;z-index: 1;position: relative;background-color: white;}#sk-container-id-3 div.sk-parallel-item:first-child::after {align-self: flex-end;width: 50%;}#sk-container-id-3 div.sk-parallel-item:last-child::after {align-self: flex-start;width: 50%;}#sk-container-id-3 div.sk-parallel-item:only-child::after {width: 0;}#sk-container-id-3 div.sk-dashed-wrapped {border: 1px dashed gray;margin: 0 0.4em 0.5em 0.4em;box-sizing: border-box;padding-bottom: 0.4em;background-color: white;}#sk-container-id-3 div.sk-label label {font-family: monospace;font-weight: bold;display: inline-block;line-height: 1.2em;}#sk-container-id-3 div.sk-label-container {text-align: center;}#sk-container-id-3 div.sk-container {/* jupyter's `normalize.less` sets `[hidden] { display: none; }` but bootstrap.min.css set `[hidden] { display: none !important; }` so we also need the `!important` here to be able to override the default hidden behavior on the sphinx rendered scikit-learn.org. See: https://github.com/scikit-learn/scikit-learn/issues/21755 */display: inline-block !important;position: relative;}#sk-container-id-3 div.sk-text-repr-fallback {display: none;}</style><div id=\"sk-container-id-3\" class=\"sk-top-container\"><div class=\"sk-text-repr-fallback\"><pre>LinearRegression()</pre><b>In a Jupyter environment, please rerun this cell to show the HTML representation or trust the notebook. <br />On GitHub, the HTML representation is unable to render, please try loading this page with nbviewer.org.</b></div><div class=\"sk-container\" hidden><div class=\"sk-item\"><div class=\"sk-estimator sk-toggleable\"><input class=\"sk-toggleable__control sk-hidden--visually\" id=\"sk-estimator-id-3\" type=\"checkbox\" checked><label for=\"sk-estimator-id-3\" class=\"sk-toggleable__label sk-toggleable__label-arrow\">LinearRegression</label><div class=\"sk-toggleable__content\"><pre>LinearRegression()</pre></div></div></div></div></div>"
     },
     "execution_count": 111,
     "metadata": {},
     "output_type": "execute_result"
    }
   ],
   "source": [
    "from sklearn.linear_model import LinearRegression\n",
    "regression = LinearRegression()\n",
    "regression.fit(X_train_tfidf, Y_train)"
   ],
   "metadata": {
    "collapsed": false
   }
  },
  {
   "cell_type": "code",
   "execution_count": 112,
   "outputs": [],
   "source": [
    "X_test_counts = count_vect.transform(X_test.name)\n",
    "X_test_tfidf = tfidf_transformer.transform(X_test_counts)"
   ],
   "metadata": {
    "collapsed": false
   }
  },
  {
   "cell_type": "code",
   "execution_count": 113,
   "outputs": [],
   "source": [
    "test_predictions = regression.predict(X_test_tfidf)"
   ],
   "metadata": {
    "collapsed": false
   }
  },
  {
   "cell_type": "code",
   "execution_count": 135,
   "outputs": [
    {
     "name": "stdout",
     "output_type": "stream",
     "text": [
      "The cheapest thing predicted (-221.57795255046105) was train_id                                                       1105354\n",
      "name                                                Rain Design mStand\n",
      "item_condition_id                                                    2\n",
      "category_name        Electronics/Computers & Tablets/Components & P...\n",
      "brand_name                                                         NaN\n",
      "shipping                                                             1\n",
      "item_description     Designer laptop riser that looks great with yo...\n",
      "Name: 1105354, dtype: object\n",
      "The most expensive thing predicted (1123.0273187881558) was  856.0\n"
     ]
    }
   ],
   "source": [
    "print(f'The cheapest thing predicted ({np.min(test_predictions)}) was', X_test.iloc[np.argmin(test_predictions)])\n",
    "print(f'The most expensive thing predicted ({np.max(test_predictions)}) was ', X_test.iloc[np.argmax(test_predictions)])"
   ],
   "metadata": {
    "collapsed": false
   }
  },
  {
   "cell_type": "code",
   "execution_count": 162,
   "outputs": [
    {
     "name": "stdout",
     "output_type": "stream",
     "text": [
      "Warning: 5675 predictions are negative. These will be clipped to 0.\n"
     ]
    }
   ],
   "source": [
    "print(f'Warning: {sum(test_predictions < 0)} predictions are negative. These will be clipped to 0.')"
   ],
   "metadata": {
    "collapsed": false
   }
  },
  {
   "cell_type": "code",
   "execution_count": 159,
   "outputs": [
    {
     "name": "stdout",
     "output_type": "stream",
     "text": [
      "Mean squared error: 0.73\n"
     ]
    }
   ],
   "source": [
    "from sklearn.metrics import mean_squared_log_error\n",
    "rmsle = np.sqrt(mean_squared_log_error(Y_test, test_predictions.clip(min=0)))\n",
    "print('Root mean squared log error: %.2f' % rmsle)"
   ],
   "metadata": {
    "collapsed": false
   }
  },
  {
   "cell_type": "code",
   "execution_count": 126,
   "outputs": [],
   "source": [
    "docs_new = ['Cozy Boots', 'Victoria\\'s Secret Swim Suit', 'nails and nail polish set', 'Rain Design mStand']\n",
    "X_new_counts = count_vect.transform(docs_new)\n",
    "X_new_tfidf = tfidf_transformer.transform(X_new_counts)"
   ],
   "metadata": {
    "collapsed": false
   }
  },
  {
   "cell_type": "code",
   "execution_count": 127,
   "outputs": [
    {
     "data": {
      "text/plain": "array([  24.11252732,   20.25974502,   13.65111033, -221.57795255])"
     },
     "execution_count": 127,
     "metadata": {},
     "output_type": "execute_result"
    }
   ],
   "source": [
    "regression.predict(X_new_tfidf)"
   ],
   "metadata": {
    "collapsed": false
   }
  },
  {
   "cell_type": "code",
   "execution_count": null,
   "outputs": [],
   "source": [],
   "metadata": {
    "collapsed": false
   }
  }
 ],
 "metadata": {
  "kernelspec": {
   "display_name": "Python 3",
   "language": "python",
   "name": "python3"
  },
  "language_info": {
   "codemirror_mode": {
    "name": "ipython",
    "version": 2
   },
   "file_extension": ".py",
   "mimetype": "text/x-python",
   "name": "python",
   "nbconvert_exporter": "python",
   "pygments_lexer": "ipython2",
   "version": "2.7.6"
  }
 },
 "nbformat": 4,
 "nbformat_minor": 0
}
