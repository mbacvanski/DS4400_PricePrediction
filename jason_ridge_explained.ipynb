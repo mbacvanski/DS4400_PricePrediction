{
 "cells": [
  {
   "cell_type": "code",
   "execution_count": 8,
   "outputs": [],
   "source": [
    "from math import sqrt\n",
    "\n",
    "import eli5\n",
    "import matplotlib.pyplot as plt\n",
    "import numpy as np\n",
    "import pandas as pd\n",
    "from scipy.sparse import csr_matrix, hstack\n",
    "from sklearn.base import BaseEstimator, TransformerMixin\n",
    "from sklearn.feature_extraction.text import CountVectorizer, TfidfVectorizer\n",
    "from sklearn.linear_model import Ridge\n",
    "from sklearn.metrics import mean_squared_error as mse\n",
    "from sklearn.model_selection import train_test_split\n",
    "from sklearn.pipeline import FeatureUnion, make_pipeline\n",
    "from sklearn.preprocessing import FunctionTransformer, OneHotEncoder\n",
    "from tqdm import tqdm"
   ],
   "metadata": {
    "collapsed": false
   }
  },
  {
   "cell_type": "code",
   "execution_count": 4,
   "outputs": [],
   "source": [
    "dataset = pd.read_csv('data/train.tsv', sep='\\t', header=0)\n",
    "dataset['category_name'] = dataset['category_name'].fillna('Other').astype(str)\n",
    "dataset['brand_name'] = dataset['brand_name'].fillna('missing').astype(str)\n",
    "dataset['shipping'] = dataset['shipping']\n",
    "dataset['item_condition_id'] = dataset['item_condition_id']\n",
    "dataset['item_description'] = dataset['item_description'].fillna('None')"
   ],
   "metadata": {
    "collapsed": false
   }
  },
  {
   "cell_type": "code",
   "execution_count": 5,
   "outputs": [],
   "source": [
    "# split category into general, sub1, and sub2\n",
    "categories = list(dataset['category_name'])\n",
    "\n",
    "gencat_list = []\n",
    "subcat1_list = []\n",
    "subcat2_list = []\n",
    "\n",
    "for cat in categories:\n",
    "    cats = cat.split(\"/\")\n",
    "    cats[0] = cats[0].replace(' ', '')\n",
    "    cats[0] = cats[0].replace('&', '_')\n",
    "    if len(cats) > 1:\n",
    "        cats[1] = cats[1].replace(' ', '')\n",
    "        cats[1] = cats[1].replace('&', '_')\n",
    "    if len(cats) > 2:\n",
    "        cats[2] = cats[2].replace(' ', '')\n",
    "        cats[2] = cats[2].replace('&', '_')\n",
    "    gencat_list.append(cats[0].strip())\n",
    "    subcat1_list.append(cats[1].strip() if len(cats) > 1 else \"Other\")\n",
    "    subcat2_list.append(cats[2].strip() if len(cats) > 2 else \"Other\")\n",
    "\n",
    "dataset[\"general_category\"] = gencat_list\n",
    "dataset[\"subcategory_1\"] = subcat1_list\n",
    "dataset[\"subcategory_2\"] = subcat2_list\n",
    "dataset.drop('category_name', axis=1, inplace=True)"
   ],
   "metadata": {
    "collapsed": false
   }
  },
  {
   "cell_type": "code",
   "execution_count": 6,
   "outputs": [],
   "source": [
    "X = dataset.loc[:, dataset.columns != 'price']\n",
    "Y = np.log1p(dataset['price'])\n",
    "\n",
    "# 80% training data, 20% test data\n",
    "X_train, X_test, Y_train, Y_test = train_test_split(X, Y, test_size=0.2, random_state=0)"
   ],
   "metadata": {
    "collapsed": false
   }
  },
  {
   "cell_type": "code",
   "execution_count": 17,
   "outputs": [],
   "source": [
    "# % % time\n",
    "\n",
    "preprocessor = CountVectorizer().build_preprocessor()\n",
    "\n",
    "\n",
    "def build_field_preprocessor(field):\n",
    "    field_idx = list(X_train.columns).index(field)\n",
    "    return lambda x: preprocessor(x[field_idx])  # this preprocesses like stripping accents, etc.\n",
    "\n",
    "\n",
    "class OneHotVectorizer(BaseEstimator, TransformerMixin):\n",
    "\n",
    "    def __init__(self, column):\n",
    "    # def __init__(self, preprocessor):\n",
    "        self.column = column\n",
    "\n",
    "    def fit(self, X, y=None):\n",
    "        self.enc = OneHotEncoder(sparse=False)\n",
    "        self.enc.fit(X[:,self.column].reshape(-1, 1))\n",
    "        return self\n",
    "\n",
    "    def transform(self, X):\n",
    "        return self.enc.transform(X[:,self.column].reshape(-1, 1))\n",
    "\n",
    "\n",
    "\n",
    "vectorizer = FeatureUnion([\n",
    "    *[(field, CountVectorizer(\n",
    "        lowercase=False,\n",
    "        binary=True,\n",
    "        preprocessor=build_field_preprocessor(field)\n",
    "    )) for field in ['brand_name', 'general_category', 'subcategory_1', 'subcategory_2']],\n",
    "\n",
    "    ('name', TfidfVectorizer(\n",
    "        ngram_range=(1, 3),\n",
    "        min_df=3,\n",
    "        max_features=250_000,\n",
    "        preprocessor=build_field_preprocessor('name')\n",
    "    )),\n",
    "    ('item_description', TfidfVectorizer(\n",
    "        ngram_range=(1, 3),\n",
    "        min_df=5,\n",
    "        max_features=500_000,\n",
    "        preprocessor=build_field_preprocessor('item_description')\n",
    "    )),\n",
    "\n",
    "    ('item_condition_id', OneHotVectorizer(\n",
    "        # preprocessor=build_field_preprocessor('item_condition_id')\n",
    "        column = list(X_train.columns).index('item_condition_id')\n",
    "    )),\n",
    "    # OneHotEncoder(\n",
    "    #     sparse=False\n",
    "    # )\n",
    "])\n",
    "\n",
    "X_train_transformed = vectorizer.fit_transform(X_train.values[:100])\n",
    "X_test_transformed = vectorizer.transform(X_test.values[:100])"
   ],
   "metadata": {
    "collapsed": false
   }
  },
  {
   "cell_type": "code",
   "execution_count": 18,
   "outputs": [
    {
     "data": {
      "text/plain": "<100x301 sparse matrix of type '<class 'numpy.float64'>'\n\twith 1437 stored elements in Compressed Sparse Row format>"
     },
     "execution_count": 18,
     "metadata": {},
     "output_type": "execute_result"
    }
   ],
   "source": [
    "X_train_transformed"
   ],
   "metadata": {
    "collapsed": false
   }
  },
  {
   "cell_type": "code",
   "execution_count": 32,
   "outputs": [
    {
     "name": "stdout",
     "output_type": "stream",
     "text": [
      "[[3]\n",
      " [3]\n",
      " [1]\n",
      " [2]\n",
      " [3]\n",
      " [3]\n",
      " [3]\n",
      " [3]\n",
      " [3]\n",
      " [3]]\n",
      "[[0. 0. 1.]\n",
      " [0. 0. 1.]\n",
      " [1. 0. 0.]\n",
      " [0. 1. 0.]\n",
      " [0. 0. 1.]\n",
      " [0. 0. 1.]\n",
      " [0. 0. 1.]\n",
      " [0. 0. 1.]\n",
      " [0. 0. 1.]\n",
      " [0. 0. 1.]]\n"
     ]
    }
   ],
   "source": [
    "# TODO: Use this transformed data to train, and then use the vectorizer in eli5\n",
    "# OneHotEncoder().fit(X_train['item_condition_id'].values)\n",
    "# from sklearn.preprocessing import MultiLabelBinarizer\n",
    "# MultiLabelBinarizer().fit_transform(X_train['item_condition_id'].values[:10])\n",
    "xxx = X_train['item_condition_id'].values[:10].reshape(-1, 1)\n",
    "print(xxx)\n",
    "# encoded = OneHotEncoder(sparse=False).fit_transform(X_train['item_condition_id'].values[:10].reshape(-1, 1))\n",
    "encoded = OneHotEncoder(sparse=False).fit_transform(xxx)\n",
    "print(encoded)\n",
    "\n",
    "# X_train['item_condition_id'].values[:10].reshape(-1, 1)"
   ],
   "metadata": {
    "collapsed": false
   }
  },
  {
   "cell_type": "code",
   "execution_count": 18,
   "outputs": [
    {
     "name": "stdout",
     "output_type": "stream",
     "text": [
      "['cold' 'cold' 'warm' 'cold' 'hot' 'hot' 'warm' 'cold' 'warm' 'hot']\n",
      "integer encoded:  [0 0 2 0 1 1 2 0 2 1]\n",
      "[[1. 0. 0.]\n",
      " [1. 0. 0.]\n",
      " [0. 0. 1.]\n",
      " [1. 0. 0.]\n",
      " [0. 1. 0.]\n",
      " [0. 1. 0.]\n",
      " [0. 0. 1.]\n",
      " [1. 0. 0.]\n",
      " [0. 0. 1.]\n",
      " [0. 1. 0.]]\n",
      "['cold']\n"
     ]
    }
   ],
   "source": [
    "from numpy import array\n",
    "from numpy import argmax\n",
    "from sklearn.preprocessing import LabelEncoder\n",
    "from sklearn.preprocessing import OneHotEncoder\n",
    "\n",
    "# define example\n",
    "data = ['cold', 'cold', 'warm', 'cold', 'hot', 'hot', 'warm', 'cold', 'warm', 'hot']\n",
    "values = array(data)\n",
    "print(values)\n",
    "# integer encode\n",
    "label_encoder = LabelEncoder()\n",
    "integer_encoded = label_encoder.fit_transform(values)\n",
    "print('integer encoded: ', integer_encoded)\n",
    "# binary encode\n",
    "onehot_encoder = OneHotEncoder(sparse=False)\n",
    "integer_encoded = integer_encoded.reshape(-1, 1)\n",
    "onehot_encoded = onehot_encoder.fit_transform(integer_encoded)\n",
    "print(onehot_encoded)\n",
    "# invert first example\n",
    "inverted = label_encoder.inverse_transform([argmax(onehot_encoded[0, :])])\n",
    "print(inverted)"
   ],
   "metadata": {
    "collapsed": false
   }
  },
  {
   "cell_type": "code",
   "execution_count": 6,
   "id": "1f37a6cd",
   "metadata": {},
   "outputs": [],
   "source": [
    "# one hot encode categorical features that are not already numbers\n",
    "\n",
    "def one_hot_categorical(train, test):\n",
    "    vectorizer = CountVectorizer(lowercase=False, binary=True)\n",
    "    onehot_train = vectorizer.fit_transform(train.values)\n",
    "    onehot_test = vectorizer.transform(test.values)\n",
    "    return onehot_train, onehot_test\n",
    "\n",
    "\n",
    "onehot_train_brand, onehot_test_brand = one_hot_categorical(X_train['brand_name'], X_test['brand_name'])\n",
    "onehot_train_gencat, onehot_test_gencat = one_hot_categorical(X_train['general_category'], X_test['general_category'])\n",
    "onehot_train_subcat1, onehot_test_subcat1 = one_hot_categorical(X_train['subcategory_1'], X_test['subcategory_1'])\n",
    "onehot_train_subcat2, onehot_test_subcat2 = one_hot_categorical(X_train['subcategory_2'], X_test['subcategory_2'])"
   ]
  },
  {
   "cell_type": "code",
   "execution_count": 7,
   "id": "a1739a5e",
   "metadata": {},
   "outputs": [],
   "source": [
    "# Use tfidf for text-based features\n",
    "\n",
    "def tfidf_text(train, test, min_df, max_features):\n",
    "    vectorizer = TfidfVectorizer(ngram_range=(1, 3), min_df=min_df, max_features=max_features)\n",
    "    tfidf_train = vectorizer.fit_transform(train.values)\n",
    "    tfidf_test = vectorizer.transform(test.values)\n",
    "    return tfidf_train, tfidf_test\n",
    "\n",
    "\n",
    "tfidf_train_name, tfidf_test_name = tfidf_text(X_train['name'], X_test['name'], 3, 250000)\n",
    "tfidf_train_description, tfidf_test_description = tfidf_text(X_train['item_description'], X_test['item_description'], 5,\n",
    "                                                             500000)"
   ]
  },
  {
   "cell_type": "code",
   "execution_count": 8,
   "id": "636a832d",
   "metadata": {},
   "outputs": [
    {
     "name": "stdout",
     "output_type": "stream",
     "text": [
      "CPU times: user 118 ms, sys: 124 ms, total: 243 ms\n",
      "Wall time: 375 ms\n"
     ]
    }
   ],
   "source": [
    "% % time\n",
    "\n",
    "# Storing categorical features that are already numbers to sparse matrix\n",
    "\n",
    "X_train_cat = csr_matrix(pd.get_dummies(X_train[['item_condition_id', 'shipping']], sparse=True).values)\n",
    "\n",
    "X_test_cat = csr_matrix(pd.get_dummies(X_test[['item_condition_id', 'shipping']], sparse=True).values)"
   ]
  },
  {
   "cell_type": "code",
   "execution_count": 9,
   "id": "a9d99fa8",
   "metadata": {},
   "outputs": [
    {
     "name": "stdout",
     "output_type": "stream",
     "text": [
      "(1186028, 2) (296507, 2)\n"
     ]
    }
   ],
   "source": [
    "print(X_train_cat.shape, X_test_cat.shape)"
   ]
  },
  {
   "cell_type": "code",
   "execution_count": 10,
   "id": "1331e56b",
   "metadata": {},
   "outputs": [],
   "source": [
    "# stack all categorical and text sparse matrices\n",
    "train_x = hstack((onehot_train_brand, onehot_train_gencat, onehot_train_subcat1, onehot_train_subcat2,\n",
    "                  tfidf_train_name, tfidf_train_description, X_train_cat)).tocsr()\n",
    "test_x = hstack((onehot_test_brand, onehot_test_gencat, onehot_test_subcat1, onehot_test_subcat2,\n",
    "                 tfidf_test_name, tfidf_test_description, X_test_cat)).tocsr()"
   ]
  },
  {
   "cell_type": "code",
   "execution_count": 11,
   "id": "c857fe7b",
   "metadata": {},
   "outputs": [
    {
     "name": "stdout",
     "output_type": "stream",
     "text": [
      "(1186028, 755993) (296507, 755993)\n"
     ]
    }
   ],
   "source": [
    "print(train_x.shape, test_x.shape)"
   ]
  },
  {
   "cell_type": "code",
   "execution_count": 12,
   "id": "be168587",
   "metadata": {},
   "outputs": [
    {
     "name": "stderr",
     "output_type": "stream",
     "text": [
      "100%|██████████| 9/9 [40:55<00:00, 272.89s/it]\n"
     ]
    },
    {
     "name": "stdout",
     "output_type": "stream",
     "text": [
      "RMSLE for alpha =  1 is 0.4474947261239424\n",
      "RMSLE for alpha =  2 is 0.441945502299795\n",
      "RMSLE for alpha =  3 is 0.44113430866202924\n",
      "RMSLE for alpha =  3.5 is 0.44128635282016876\n",
      "RMSLE for alpha =  4 is 0.44159142468265794\n",
      "RMSLE for alpha =  4.5 is 0.44203240994961573\n",
      "RMSLE for alpha =  5 is 0.44253122639412035\n",
      "RMSLE for alpha =  6 is 0.4436106837725421\n",
      "RMSLE for alpha =  7 is 0.4447336010054999\n"
     ]
    },
    {
     "data": {
      "text/plain": "<Figure size 640x480 with 1 Axes>",
      "image/png": "[encoded data removed]"
     },
     "metadata": {},
     "output_type": "display_data"
    }
   ],
   "source": [
    "alpha = [1, 2, 3, 3.5, 4, 4.5, 5, 6, 7]\n",
    "test_rmsle_array = []\n",
    "for i in tqdm(alpha):\n",
    "    model = Ridge(solver=\"sparse_cg\", random_state=42, alpha=i)\n",
    "    model.fit(train_x, Y_train)\n",
    "    preds_test = model.predict(test_x)\n",
    "    test_rmsle_array.append(sqrt(mse(Y_test, preds_test)))\n",
    "\n",
    "for i in range(len(test_rmsle_array)):\n",
    "    print('RMSLE for alpha = ', alpha[i], 'is', test_rmsle_array[i])\n",
    "\n",
    "best_alpha = np.argmin(test_rmsle_array)\n",
    "\n",
    "fig, ax = plt.subplots()\n",
    "ax.plot(alpha, test_rmsle_array)\n",
    "ax.scatter(alpha, test_rmsle_array)\n",
    "for i, txt in enumerate(np.round(test_rmsle_array, 3)):\n",
    "    ax.annotate((alpha[i], np.round(txt, 3)), (alpha[i], test_rmsle_array[i]))\n",
    "\n",
    "plt.title(\"Cross Validation Error for each alpha\")\n",
    "plt.xlabel(\"Alpha\")\n",
    "plt.ylabel(\"Error\")\n",
    "plt.show()"
   ]
  },
  {
   "cell_type": "code",
   "execution_count": 13,
   "id": "99a45a6f",
   "metadata": {},
   "outputs": [
    {
     "name": "stdout",
     "output_type": "stream",
     "text": [
      "Best alpha:  3\n"
     ]
    },
    {
     "name": "stderr",
     "output_type": "stream",
     "text": [
      "/Users/marc/opt/anaconda3/envs/ds/lib/python3.9/site-packages/sklearn/linear_model/_ridge.py:830: UserWarning: \"sag\" solver requires many iterations to fit an intercept with sparse inputs. Either set the solver to \"auto\" or \"sparse_cg\", or set a low \"tol\" and a high \"max_iter\" (especially if inputs are not standardized).\n",
      "  warnings.warn(\n"
     ]
    },
    {
     "name": "stdout",
     "output_type": "stream",
     "text": [
      "Train RMSLE: 0.3799885770404893\n",
      "Cross validation RMSLE:  0.4410885811609205\n"
     ]
    }
   ],
   "source": [
    "print(\"Best alpha: \", alpha[best_alpha])\n",
    "model = Ridge(solver=\"sag\", random_state=42, alpha=alpha[best_alpha])\n",
    "model.fit(train_x, Y_train)\n",
    "ridge_preds_train = model.predict(train_x)\n",
    "ridge_preds_test = model.predict(test_x)\n",
    "\n",
    "print('Train RMSLE:', sqrt(mse(Y_train, ridge_preds_train)))\n",
    "\n",
    "ridge_rmsle = sqrt(mse(Y_test, ridge_preds_test))\n",
    "print(\"Cross validation RMSLE: \", ridge_rmsle)"
   ]
  },
  {
   "cell_type": "code",
   "execution_count": 18,
   "id": "34e29d1f",
   "metadata": {},
   "outputs": [
    {
     "data": {
      "text/html": [
       "<div>\n",
       "<style scoped>\n",
       "    .dataframe tbody tr th:only-of-type {\n",
       "        vertical-align: middle;\n",
       "    }\n",
       "\n",
       "    .dataframe tbody tr th {\n",
       "        vertical-align: top;\n",
       "    }\n",
       "\n",
       "    .dataframe thead th {\n",
       "        text-align: right;\n",
       "    }\n",
       "</style>\n",
       "<table border=\"1\" class=\"dataframe\">\n",
       "  <thead>\n",
       "    <tr style=\"text-align: right;\">\n",
       "      <th></th>\n",
       "      <th>train_id</th>\n",
       "      <th>name</th>\n",
       "      <th>item_condition_id</th>\n",
       "      <th>brand_name</th>\n",
       "      <th>shipping</th>\n",
       "      <th>item_description</th>\n",
       "      <th>general_category</th>\n",
       "      <th>subcategory_1</th>\n",
       "      <th>subcategory_2</th>\n",
       "    </tr>\n",
       "  </thead>\n",
       "  <tbody>\n",
       "    <tr>\n",
       "      <th>901879</th>\n",
       "      <td>901879</td>\n",
       "      <td>Black Nike Cortez Size 4</td>\n",
       "      <td>2</td>\n",
       "      <td>Nike</td>\n",
       "      <td>1</td>\n",
       "      <td>Size 4. My baby wore once before she was reall...</td>\n",
       "      <td>Kids</td>\n",
       "      <td>Boys2T-5T</td>\n",
       "      <td>Shoes</td>\n",
       "    </tr>\n",
       "    <tr>\n",
       "      <th>984774</th>\n",
       "      <td>984774</td>\n",
       "      <td>HP Pavilion DV5000 DV6000 DV8000 DV9000</td>\n",
       "      <td>3</td>\n",
       "      <td>HP</td>\n",
       "      <td>1</td>\n",
       "      <td>HP Pavilion DV5000 DV6000 DV8000 DV9000 Ac Ada...</td>\n",
       "      <td>Other</td>\n",
       "      <td>Other</td>\n",
       "      <td>Other</td>\n",
       "    </tr>\n",
       "    <tr>\n",
       "      <th>1059057</th>\n",
       "      <td>1059057</td>\n",
       "      <td>New 24pc Cake Decorating Kit</td>\n",
       "      <td>1</td>\n",
       "      <td>missing</td>\n",
       "      <td>1</td>\n",
       "      <td>New Cake Decorating Set - With 24 pcs Icing Ti...</td>\n",
       "      <td>Home</td>\n",
       "      <td>Kitchen_Dining</td>\n",
       "      <td>Bakeware</td>\n",
       "    </tr>\n",
       "    <tr>\n",
       "      <th>122771</th>\n",
       "      <td>122771</td>\n",
       "      <td>Marc by marc jacobs</td>\n",
       "      <td>2</td>\n",
       "      <td>MARC BY MARC JACOBS</td>\n",
       "      <td>0</td>\n",
       "      <td>Authentic light brown pebble leather marc by m...</td>\n",
       "      <td>Women</td>\n",
       "      <td>Women'sAccessories</td>\n",
       "      <td>Wallets</td>\n",
       "    </tr>\n",
       "    <tr>\n",
       "      <th>293900</th>\n",
       "      <td>293900</td>\n",
       "      <td>Samsung s7 edge brand new</td>\n",
       "      <td>1</td>\n",
       "      <td>Samsung</td>\n",
       "      <td>1</td>\n",
       "      <td>Brand new still in box, everything included. C...</td>\n",
       "      <td>Electronics</td>\n",
       "      <td>CellPhones_Accessories</td>\n",
       "      <td>CellPhones_Smartphones</td>\n",
       "    </tr>\n",
       "    <tr>\n",
       "      <th>...</th>\n",
       "      <td>...</td>\n",
       "      <td>...</td>\n",
       "      <td>...</td>\n",
       "      <td>...</td>\n",
       "      <td>...</td>\n",
       "      <td>...</td>\n",
       "      <td>...</td>\n",
       "      <td>...</td>\n",
       "      <td>...</td>\n",
       "    </tr>\n",
       "    <tr>\n",
       "      <th>359953</th>\n",
       "      <td>359953</td>\n",
       "      <td>2 Jacket, 1 Shirt And Bottoms</td>\n",
       "      <td>3</td>\n",
       "      <td>missing</td>\n",
       "      <td>0</td>\n",
       "      <td>USPA, IZOD, PERRY ELLIS, LEVI</td>\n",
       "      <td>Other</td>\n",
       "      <td>Other</td>\n",
       "      <td>Other</td>\n",
       "    </tr>\n",
       "    <tr>\n",
       "      <th>152400</th>\n",
       "      <td>152400</td>\n",
       "      <td>White maxi dress perfect for summer!</td>\n",
       "      <td>2</td>\n",
       "      <td>missing</td>\n",
       "      <td>0</td>\n",
       "      <td>Never been worn! So beautiful for summer night...</td>\n",
       "      <td>Women</td>\n",
       "      <td>Skirts</td>\n",
       "      <td>Maxi</td>\n",
       "    </tr>\n",
       "    <tr>\n",
       "      <th>963931</th>\n",
       "      <td>963931</td>\n",
       "      <td>Barcelona Messi Soccer Jersey 2018 (M)</td>\n",
       "      <td>1</td>\n",
       "      <td>missing</td>\n",
       "      <td>1</td>\n",
       "      <td>Barcelona Messi Soccer Jersey Size: Medium 100...</td>\n",
       "      <td>Men</td>\n",
       "      <td>AthleticApparel</td>\n",
       "      <td>Jerseys</td>\n",
       "    </tr>\n",
       "    <tr>\n",
       "      <th>118024</th>\n",
       "      <td>118024</td>\n",
       "      <td>32 pcs Vander makeup brushes</td>\n",
       "      <td>1</td>\n",
       "      <td>missing</td>\n",
       "      <td>1</td>\n",
       "      <td>Package includes: 14 x The Specifications Eyes...</td>\n",
       "      <td>Beauty</td>\n",
       "      <td>Tools_Accessories</td>\n",
       "      <td>MakeupBrushes_Tools</td>\n",
       "    </tr>\n",
       "    <tr>\n",
       "      <th>305857</th>\n",
       "      <td>305857</td>\n",
       "      <td>Elusive 50X Bronzers Tanning Lotion New</td>\n",
       "      <td>1</td>\n",
       "      <td>missing</td>\n",
       "      <td>1</td>\n",
       "      <td>Elusive 50X Bronzers by Designer Skin Read bef...</td>\n",
       "      <td>Beauty</td>\n",
       "      <td>SkinCare</td>\n",
       "      <td>Sun</td>\n",
       "    </tr>\n",
       "  </tbody>\n",
       "</table>\n",
       "<p>1185328 rows × 9 columns</p>\n",
       "</div>"
      ],
      "text/plain": [
       "         train_id                                     name  item_condition_id  \\\n",
       "901879     901879                 Black Nike Cortez Size 4                  2   \n",
       "984774     984774  HP Pavilion DV5000 DV6000 DV8000 DV9000                  3   \n",
       "1059057   1059057             New 24pc Cake Decorating Kit                  1   \n",
       "122771     122771                      Marc by marc jacobs                  2   \n",
       "293900     293900                Samsung s7 edge brand new                  1   \n",
       "...           ...                                      ...                ...   \n",
       "359953     359953            2 Jacket, 1 Shirt And Bottoms                  3   \n",
       "152400     152400     White maxi dress perfect for summer!                  2   \n",
       "963931     963931   Barcelona Messi Soccer Jersey 2018 (M)                  1   \n",
       "118024     118024             32 pcs Vander makeup brushes                  1   \n",
       "305857     305857  Elusive 50X Bronzers Tanning Lotion New                  1   \n",
       "\n",
       "                  brand_name  shipping  \\\n",
       "901879                  Nike         1   \n",
       "984774                    HP         1   \n",
       "1059057              missing         1   \n",
       "122771   MARC BY MARC JACOBS         0   \n",
       "293900               Samsung         1   \n",
       "...                      ...       ...   \n",
       "359953               missing         0   \n",
       "152400               missing         0   \n",
       "963931               missing         1   \n",
       "118024               missing         1   \n",
       "305857               missing         1   \n",
       "\n",
       "                                          item_description general_category  \\\n",
       "901879   Size 4. My baby wore once before she was reall...             Kids   \n",
       "984774   HP Pavilion DV5000 DV6000 DV8000 DV9000 Ac Ada...            Other   \n",
       "1059057  New Cake Decorating Set - With 24 pcs Icing Ti...             Home   \n",
       "122771   Authentic light brown pebble leather marc by m...            Women   \n",
       "293900   Brand new still in box, everything included. C...      Electronics   \n",
       "...                                                    ...              ...   \n",
       "359953                       USPA, IZOD, PERRY ELLIS, LEVI            Other   \n",
       "152400   Never been worn! So beautiful for summer night...            Women   \n",
       "963931   Barcelona Messi Soccer Jersey Size: Medium 100...              Men   \n",
       "118024   Package includes: 14 x The Specifications Eyes...           Beauty   \n",
       "305857   Elusive 50X Bronzers by Designer Skin Read bef...           Beauty   \n",
       "\n",
       "                  subcategory_1           subcategory_2  \n",
       "901879                Boys2T-5T                   Shoes  \n",
       "984774                    Other                   Other  \n",
       "1059057          Kitchen_Dining                Bakeware  \n",
       "122771       Women'sAccessories                 Wallets  \n",
       "293900   CellPhones_Accessories  CellPhones_Smartphones  \n",
       "...                         ...                     ...  \n",
       "359953                    Other                   Other  \n",
       "152400                   Skirts                    Maxi  \n",
       "963931          AthleticApparel                 Jerseys  \n",
       "118024        Tools_Accessories     MakeupBrushes_Tools  \n",
       "305857                 SkinCare                     Sun  \n",
       "\n",
       "[1185328 rows x 9 columns]"
      ]
     },
     "execution_count": 18,
     "metadata": {},
     "output_type": "execute_result"
    }
   ],
   "source": [
    "X_train"
   ]
  },
  {
   "cell_type": "code",
   "execution_count": null,
   "id": "d69ee35f",
   "metadata": {},
   "outputs": [],
   "source": [
    "eli5.show_weights(model, vec=)"
   ]
  }
 ],
 "metadata": {
  "kernelspec": {
   "display_name": "Python 3 (ipykernel)",
   "language": "python",
   "name": "python3"
  },
  "language_info": {
   "codemirror_mode": {
    "name": "ipython",
    "version": 3
   },
   "file_extension": ".py",
   "mimetype": "text/x-python",
   "name": "python",
   "nbconvert_exporter": "python",
   "pygments_lexer": "ipython3",
   "version": "3.10.6"
  }
 },
 "nbformat": 4,
 "nbformat_minor": 5
}
