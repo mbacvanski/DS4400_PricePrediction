{
 "cells": [
  {
   "cell_type": "code",
   "execution_count": 1,
   "metadata": {
    "collapsed": true
   },
   "outputs": [],
   "source": [
    "import pickle\n",
    "from typing import List, Tuple, Union\n",
    "\n",
    "import numpy as np\n",
    "import torch\n",
    "import tqdm\n",
    "from scipy.sparse import csr_matrix\n",
    "from torch import nn, optim\n",
    "from torch.nn import Linear, ReLU\n",
    "from torch.utils.data import Dataset\n"
   ]
  },
  {
   "cell_type": "code",
   "execution_count": 2,
   "outputs": [],
   "source": [
    "class DNN(nn.Module):\n",
    "    def __init__(self, layer_sizes: List[int]):\n",
    "        \"\"\"\n",
    "        The first layer size is the input dimension, and the last layer size is the output dimension.\n",
    "        :param layer_sizes:\n",
    "        \"\"\"\n",
    "        super(DNN, self).__init__()\n",
    "\n",
    "        self.layers = nn.ModuleList()\n",
    "\n",
    "        for i in range(0, len(layer_sizes) - 1):\n",
    "            self.layers.append(Linear(in_features=layer_sizes[i],\n",
    "                                      out_features=layer_sizes[i + 1]))\n",
    "            self.layers.append(ReLU())\n",
    "\n",
    "    def forward(self, x: torch.Tensor):\n",
    "        for layer in self.layers:\n",
    "            # print(f'Layer {layer} with input size {x.size()}')\n",
    "            x = layer(x)\n",
    "        return x"
   ],
   "metadata": {
    "collapsed": false
   }
  },
  {
   "cell_type": "code",
   "execution_count": 10,
   "outputs": [],
   "source": [
    "with open('x_train_transformed.pkl', 'rb') as f:\n",
    "    X_train = pickle.load(f)\n",
    "\n",
    "with open('x_test_transformed.pkl', 'rb') as f:\n",
    "    X_test = pickle.load(f)\n",
    "\n",
    "with open('y_train.pkl', 'rb') as f:\n",
    "    Y_train = pickle.load(f)\n",
    "\n",
    "with open('y_test.pkl', 'rb') as f:\n",
    "    Y_test = pickle.load(f)"
   ],
   "metadata": {
    "collapsed": false
   }
  },
  {
   "cell_type": "code",
   "execution_count": 11,
   "outputs": [
    {
     "data": {
      "text/plain": "(1186028, 755851)"
     },
     "execution_count": 11,
     "metadata": {},
     "output_type": "execute_result"
    }
   ],
   "source": [
    "X_train.shape"
   ],
   "metadata": {
    "collapsed": false
   }
  },
  {
   "cell_type": "code",
   "execution_count": null,
   "outputs": [],
   "source": [
    "%%time\n",
    "\n",
    "from sklearn.decomposition import TruncatedSVD\n",
    "\n",
    "tsvd = TruncatedSVD(n_components=X_train.shape[1] // 2)\n",
    "X_train_transformed = tsvd.fit_transform(X_train)\n",
    "X_test_transformed = tsvd.transform(X_test)"
   ],
   "metadata": {
    "collapsed": false,
    "pycharm": {
     "is_executing": true
    }
   }
  },
  {
   "cell_type": "code",
   "execution_count": 1,
   "outputs": [
    {
     "ename": "NameError",
     "evalue": "name 'X_train' is not defined",
     "output_type": "error",
     "traceback": [
      "\u001B[0;31m---------------------------------------------------------------------------\u001B[0m",
      "\u001B[0;31mNameError\u001B[0m                                 Traceback (most recent call last)",
      "Input \u001B[0;32mIn [1]\u001B[0m, in \u001B[0;36m<cell line: 1>\u001B[0;34m()\u001B[0m\n\u001B[0;32m----> 1\u001B[0m \u001B[43mX_train\u001B[49m\n",
      "\u001B[0;31mNameError\u001B[0m: name 'X_train' is not defined"
     ]
    }
   ],
   "source": [
    "X_train"
   ],
   "metadata": {
    "collapsed": false
   }
  },
  {
   "cell_type": "code",
   "execution_count": 6,
   "outputs": [
    {
     "data": {
      "text/plain": "array([0.01034079, 0.08227368])"
     },
     "execution_count": 6,
     "metadata": {},
     "output_type": "execute_result"
    }
   ],
   "source": [
    "tsvd.explained_variance_ratio_"
   ],
   "metadata": {
    "collapsed": false
   }
  },
  {
   "cell_type": "code",
   "execution_count": 6,
   "outputs": [
    {
     "data": {
      "text/plain": "<3x755851 sparse matrix of type '<class 'numpy.float64'>'\n\twith 268 stored elements in Compressed Sparse Row format>"
     },
     "execution_count": 6,
     "metadata": {},
     "output_type": "execute_result"
    }
   ],
   "source": [
    "indices = np.array([1, 2, 3])\n",
    "X_train[indices]"
   ],
   "metadata": {
    "collapsed": false
   }
  },
  {
   "cell_type": "code",
   "execution_count": 5,
   "outputs": [],
   "source": [
    "class SparseDataset(Dataset):\n",
    "    \"\"\"\n",
    "    Custom Dataset class for scipy sparse matrix\n",
    "    \"\"\"\n",
    "\n",
    "    def __init__(self, data: Union[np.ndarray, csr_matrix],\n",
    "                 targets: Union[np.ndarray, csr_matrix]):\n",
    "        self.data = data\n",
    "        self.datatype = type(data)\n",
    "\n",
    "        self.targets = targets\n",
    "        self.targettype = type(targets)\n",
    "\n",
    "    def __getitem__(self, index: int):\n",
    "        x = self.data.getrow(index) if self.datatype == csr_matrix else self.data[index]\n",
    "        y = self.targets.getrow(index) if self.targettype == csr_matrix else self.targets[index]\n",
    "        return x, y\n",
    "\n",
    "    def __len__(self):\n",
    "        return self.data.shape[0]"
   ],
   "metadata": {
    "collapsed": false
   }
  },
  {
   "cell_type": "code",
   "execution_count": null,
   "outputs": [],
   "source": [
    "def train_model(model, train: Tuple[csr_matrix, np.ndarray], validation: Tuple[csr_matrix, np.ndarray],\n",
    "                batch_size: int, epochs: int):\n",
    "    optimizer = optim.Adam(model.parameters())\n",
    "\n",
    "    X_train, Y_train = train\n",
    "    n_samples = X_train.shape[0]\n",
    "    n_batches = np.ceil(n_samples * 1.0 / batch_size)\n",
    "    display = tqdm.trange(epochs)\n",
    "    validation_losses = []\n",
    "    for _ in display:\n",
    "        permutation = np.random.permutation(n_samples)\n",
    "\n",
    "        # train in this epoch\n",
    "        for batch_n in range(n_batches):\n",
    "            batch_indices = permutation[batch_n * batch_size:\n",
    "                                        min((batch_n + 1) * batch_size, len(permutation))]\n",
    "            batch_x = torch.as_tensor(X_train[batch_indices].todense(), dtype=torch.float32)\n",
    "            batch_y = torch.as_tensor(Y_train[batch_indices], dtype=torch.float32)\n",
    "\n",
    "            predictions = model(batch_x)\n",
    "            loss = nn.MSELoss()(predictions, batch_y)\n",
    "            optimizer.zero_grad()\n",
    "            loss.backward()\n",
    "            optimizer.step()\n",
    "\n",
    "        # validation_loss = evaluate_model(model=model, dataset=validation)\n",
    "        # validation_losses.append(validation_loss)\n",
    "        # display.set_description(f'Validation loss: {validation_loss:.5}')\n",
    "\n",
    "    return validation_losses\n",
    "\n",
    "\n",
    "# def evaluate_model(model, dataset: Tuple[csr_matrix, np.ndarray]) -> float:\n",
    "#     X, Y = dataset\n",
    "#     X_tens, Y_tens = torch.as_tensor(X.todense(), dtype=torch.float32), torch.as_tensor(Y, dtype=torch.float32)\n",
    "#\n",
    "#     with torch.no_grad():\n",
    "#         raw_pred = model(X_tens)\n",
    "#         predictions = np.array(torch.argmax(raw_pred, dim=1))\n",
    "#\n",
    "#     loss = torch.nn.MSELoss()(predictions, Y_tens)\n",
    "#     return loss.item()"
   ],
   "metadata": {
    "collapsed": false
   }
  }
 ],
 "metadata": {
  "kernelspec": {
   "display_name": "Python 3",
   "language": "python",
   "name": "python3"
  },
  "language_info": {
   "codemirror_mode": {
    "name": "ipython",
    "version": 2
   },
   "file_extension": ".py",
   "mimetype": "text/x-python",
   "name": "python",
   "nbconvert_exporter": "python",
   "pygments_lexer": "ipython2",
   "version": "2.7.6"
  }
 },
 "nbformat": 4,
 "nbformat_minor": 0
}
