{
 "cells": [
  {
   "cell_type": "code",
   "execution_count": 1,
   "metadata": {
    "collapsed": true
   },
   "outputs": [],
   "source": [
    "import pandas as pd\n",
    "from sklearn.model_selection import train_test_split"
   ]
  },
  {
   "cell_type": "code",
   "execution_count": 6,
   "outputs": [],
   "source": [
    "dataset = pd.read_csv('data/train.tsv', sep='\\t', header=0)\n",
    "dataset['category_name'] = dataset['category_name'].fillna('Other').astype(str)\n",
    "dataset['brand_name'] = dataset['brand_name'].fillna('missing').astype(str)\n",
    "dataset['shipping'] = dataset['shipping'].astype(str)  # makes this categorical\n",
    "dataset['item_condition_id'] = dataset['item_condition_id'].astype(str)\n",
    "dataset['item_description'] = dataset['item_description'].fillna('None')\n",
    "\n",
    "X = dataset.loc[:, dataset.columns != 'price']\n",
    "Y = dataset.price\n",
    "\n",
    "# 80% training data, 20% test data\n",
    "X_train, X_test, Y_train, Y_test = train_test_split(X, Y, test_size=0.2, random_state=0)"
   ],
   "metadata": {
    "collapsed": false
   }
  },
  {
   "cell_type": "code",
   "execution_count": 7,
   "outputs": [
    {
     "data": {
      "text/plain": "         train_id                                      name item_condition_id  \\\n604635     604635                                      Enzo                 3   \n496799     496799                               Black dress                 3   \n1035231   1035231                      2 items for Brittany                 1   \n628659     628659                               Texas budle                 2   \n261459     261459                      North face rain coat                 3   \n959361     959361                Michael kors crossbody bag                 3   \n199415     199415                      Cream studded wedges                 3   \n1460850   1460850                 Pink and gold trinket box                 3   \n568899     568899  True religion button shirt slimsize XXXL                 3   \n1365752   1365752        WD Scorpio Blue 1TB 2.5 hard drive                 3   \n\n                                             category_name  \\\n604635                           Women/Shoes/Mules & Clogs   \n496799                           Women/Dresses/Full-Length   \n1035231  Electronics/Cell Phones & Accessories/Cables &...   \n628659                       Women/Tops & Blouses/T-Shirts   \n261459                      Women/Athletic Apparel/Jackets   \n959361        Women/Women's Handbags/Messenger & Crossbody   \n199415                                 Women/Shoes/Sandals   \n1460850                 Home/Home Décor/Home Décor Accents   \n568899                                   Men/Tops/T-shirts   \n1365752  Electronics/Computers & Tablets/Drives, Storag...   \n\n                        brand_name shipping  \\\n604635                     missing        0   \n496799                     missing        1   \n1035231                    missing        0   \n628659                     missing        0   \n261459              The North Face        0   \n959361                Michael Kors        0   \n199415                     missing        0   \n1460850                    missing        0   \n568899   True Religion Brand Jeans        1   \n1365752            Western Digital        1   \n\n                                          item_description  \n604635   Enzo Angiolini Mules/Clogs. Super Cute with so...  \n496799   Xl long black dress Solid under with lace over...  \n1035231  - Urban Decay Eyeshadow This has never been us...  \n628659                                Very cute!! No flaws  \n261459   Sea foam green rain coat Size 18 XL in youth I...  \n959361                       Used , the color is rose gold  \n199415   The brand is Hot Rated purchased at Buckle. I ...  \n1460850  5.75\" tall and 4.5\" wide. Heavy resin. The fel...  \n568899   Please remember the brand name usually run sma...  \n1365752  Used like new condition Can be used on PS4 (yo...  ",
      "text/html": "<div>\n<style scoped>\n    .dataframe tbody tr th:only-of-type {\n        vertical-align: middle;\n    }\n\n    .dataframe tbody tr th {\n        vertical-align: top;\n    }\n\n    .dataframe thead th {\n        text-align: right;\n    }\n</style>\n<table border=\"1\" class=\"dataframe\">\n  <thead>\n    <tr style=\"text-align: right;\">\n      <th></th>\n      <th>train_id</th>\n      <th>name</th>\n      <th>item_condition_id</th>\n      <th>category_name</th>\n      <th>brand_name</th>\n      <th>shipping</th>\n      <th>item_description</th>\n    </tr>\n  </thead>\n  <tbody>\n    <tr>\n      <th>604635</th>\n      <td>604635</td>\n      <td>Enzo</td>\n      <td>3</td>\n      <td>Women/Shoes/Mules &amp; Clogs</td>\n      <td>missing</td>\n      <td>0</td>\n      <td>Enzo Angiolini Mules/Clogs. Super Cute with so...</td>\n    </tr>\n    <tr>\n      <th>496799</th>\n      <td>496799</td>\n      <td>Black dress</td>\n      <td>3</td>\n      <td>Women/Dresses/Full-Length</td>\n      <td>missing</td>\n      <td>1</td>\n      <td>Xl long black dress Solid under with lace over...</td>\n    </tr>\n    <tr>\n      <th>1035231</th>\n      <td>1035231</td>\n      <td>2 items for Brittany</td>\n      <td>1</td>\n      <td>Electronics/Cell Phones &amp; Accessories/Cables &amp;...</td>\n      <td>missing</td>\n      <td>0</td>\n      <td>- Urban Decay Eyeshadow This has never been us...</td>\n    </tr>\n    <tr>\n      <th>628659</th>\n      <td>628659</td>\n      <td>Texas budle</td>\n      <td>2</td>\n      <td>Women/Tops &amp; Blouses/T-Shirts</td>\n      <td>missing</td>\n      <td>0</td>\n      <td>Very cute!! No flaws</td>\n    </tr>\n    <tr>\n      <th>261459</th>\n      <td>261459</td>\n      <td>North face rain coat</td>\n      <td>3</td>\n      <td>Women/Athletic Apparel/Jackets</td>\n      <td>The North Face</td>\n      <td>0</td>\n      <td>Sea foam green rain coat Size 18 XL in youth I...</td>\n    </tr>\n    <tr>\n      <th>959361</th>\n      <td>959361</td>\n      <td>Michael kors crossbody bag</td>\n      <td>3</td>\n      <td>Women/Women's Handbags/Messenger &amp; Crossbody</td>\n      <td>Michael Kors</td>\n      <td>0</td>\n      <td>Used , the color is rose gold</td>\n    </tr>\n    <tr>\n      <th>199415</th>\n      <td>199415</td>\n      <td>Cream studded wedges</td>\n      <td>3</td>\n      <td>Women/Shoes/Sandals</td>\n      <td>missing</td>\n      <td>0</td>\n      <td>The brand is Hot Rated purchased at Buckle. I ...</td>\n    </tr>\n    <tr>\n      <th>1460850</th>\n      <td>1460850</td>\n      <td>Pink and gold trinket box</td>\n      <td>3</td>\n      <td>Home/Home Décor/Home Décor Accents</td>\n      <td>missing</td>\n      <td>0</td>\n      <td>5.75\" tall and 4.5\" wide. Heavy resin. The fel...</td>\n    </tr>\n    <tr>\n      <th>568899</th>\n      <td>568899</td>\n      <td>True religion button shirt slimsize XXXL</td>\n      <td>3</td>\n      <td>Men/Tops/T-shirts</td>\n      <td>True Religion Brand Jeans</td>\n      <td>1</td>\n      <td>Please remember the brand name usually run sma...</td>\n    </tr>\n    <tr>\n      <th>1365752</th>\n      <td>1365752</td>\n      <td>WD Scorpio Blue 1TB 2.5 hard drive</td>\n      <td>3</td>\n      <td>Electronics/Computers &amp; Tablets/Drives, Storag...</td>\n      <td>Western Digital</td>\n      <td>1</td>\n      <td>Used like new condition Can be used on PS4 (yo...</td>\n    </tr>\n  </tbody>\n</table>\n</div>"
     },
     "execution_count": 7,
     "metadata": {},
     "output_type": "execute_result"
    }
   ],
   "source": [
    "X_train.head(10)"
   ],
   "metadata": {
    "collapsed": false
   }
  },
  {
   "cell_type": "code",
   "execution_count": null,
   "outputs": [],
   "source": [
    "%%time\n",
    "\n",
    "from sklearn.pipeline import FeatureUnion\n",
    "from sklearn.feature_extraction.text import CountVectorizer, TfidfVectorizer\n",
    "\n",
    "preprocessor = CountVectorizer().build_preprocessor()\n",
    "\n",
    "\n",
    "def build_field_preprocessor(field):\n",
    "    field_idx = list(X_train.columns).index(field)\n",
    "    return lambda x: preprocessor(x[field_idx])  # this preprocesses like stripping accents, etc.\n",
    "\n",
    "\n",
    "vectorizer = FeatureUnion([\n",
    "    ('name', CountVectorizer(\n",
    "        ngram_range=(1, 2),\n",
    "        max_features=50_000,\n",
    "        preprocessor=build_field_preprocessor('name')\n",
    "    )),\n",
    "    ('category_name', CountVectorizer(\n",
    "        token_pattern='.+',\n",
    "        preprocessor=build_field_preprocessor('category_name')\n",
    "    )),\n",
    "    ('brand_name', CountVectorizer(\n",
    "        token_pattern='.+',\n",
    "        preprocessor=build_field_preprocessor('brand_name')\n",
    "    )),\n",
    "    ('shipping', CountVectorizer(\n",
    "        token_pattern='\\d+',\n",
    "        preprocessor=build_field_preprocessor('shipping')\n",
    "    )),\n",
    "    ('item_condition_id', CountVectorizer(\n",
    "        token_pattern='\\d+',\n",
    "        preprocessor=build_field_preprocessor('item_condition_id')\n",
    "    )),\n",
    "    ('item_description', TfidfVectorizer(\n",
    "        ngram_range=(1, 3),\n",
    "        max_features=1_000_00,\n",
    "        preprocessor=build_field_preprocessor('item_description')\n",
    "    ))\n",
    "], n_jobs=16)\n",
    "\n",
    "X_train_transformed = vectorizer.fit_transform(X_train.values)\n",
    "X_train_transformed"
   ],
   "metadata": {
    "collapsed": false,
    "pycharm": {
     "is_executing": true
    }
   }
  },
  {
   "cell_type": "code",
   "execution_count": null,
   "outputs": [],
   "source": [],
   "metadata": {
    "collapsed": false
   }
  }
 ],
 "metadata": {
  "kernelspec": {
   "display_name": "Python 3",
   "language": "python",
   "name": "python3"
  },
  "language_info": {
   "codemirror_mode": {
    "name": "ipython",
    "version": 2
   },
   "file_extension": ".py",
   "mimetype": "text/x-python",
   "name": "python",
   "nbconvert_exporter": "python",
   "pygments_lexer": "ipython2",
   "version": "2.7.6"
  }
 },
 "nbformat": 4,
 "nbformat_minor": 0
}
