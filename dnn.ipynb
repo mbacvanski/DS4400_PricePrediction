{
 "cells": [
  {
   "cell_type": "code",
   "execution_count": 1,
   "outputs": [],
   "source": [
    "import numpy as np\n",
    "import pandas as pd\n",
    "from sklearn.feature_extraction.text import CountVectorizer, TfidfVectorizer\n",
    "from sklearn.metrics import mean_squared_log_error\n",
    "from sklearn.model_selection import train_test_split\n",
    "from sklearn.neural_network import MLPRegressor\n",
    "from sklearn.pipeline import FeatureUnion\n",
    "# from keras.api._v2.keras import Model, Sequential\n",
    "# from keras.api._v2.keras.layers import Dense"
   ],
   "metadata": {
    "collapsed": false
   }
  },
  {
   "cell_type": "code",
   "execution_count": 2,
   "outputs": [
    {
     "data": {
      "text/plain": "         train_id                                      name item_condition_id  \\\n604635     604635                                      Enzo                 3   \n496799     496799                               Black dress                 3   \n1035231   1035231                      2 items for Brittany                 1   \n628659     628659                               Texas budle                 2   \n261459     261459                      North face rain coat                 3   \n959361     959361                Michael kors crossbody bag                 3   \n199415     199415                      Cream studded wedges                 3   \n1460850   1460850                 Pink and gold trinket box                 3   \n568899     568899  True religion button shirt slimsize XXXL                 3   \n1365752   1365752        WD Scorpio Blue 1TB 2.5 hard drive                 3   \n\n                                             category_name  \\\n604635                           Women/Shoes/Mules & Clogs   \n496799                           Women/Dresses/Full-Length   \n1035231  Electronics/Cell Phones & Accessories/Cables &...   \n628659                       Women/Tops & Blouses/T-Shirts   \n261459                      Women/Athletic Apparel/Jackets   \n959361        Women/Women's Handbags/Messenger & Crossbody   \n199415                                 Women/Shoes/Sandals   \n1460850                 Home/Home Décor/Home Décor Accents   \n568899                                   Men/Tops/T-shirts   \n1365752  Electronics/Computers & Tablets/Drives, Storag...   \n\n                        brand_name shipping  \\\n604635                     missing        0   \n496799                     missing        1   \n1035231                    missing        0   \n628659                     missing        0   \n261459              The North Face        0   \n959361                Michael Kors        0   \n199415                     missing        0   \n1460850                    missing        0   \n568899   True Religion Brand Jeans        1   \n1365752            Western Digital        1   \n\n                                          item_description  \n604635   Enzo Angiolini Mules/Clogs. Super Cute with so...  \n496799   Xl long black dress Solid under with lace over...  \n1035231  - Urban Decay Eyeshadow This has never been us...  \n628659                                Very cute!! No flaws  \n261459   Sea foam green rain coat Size 18 XL in youth I...  \n959361                       Used , the color is rose gold  \n199415   The brand is Hot Rated purchased at Buckle. I ...  \n1460850  5.75\" tall and 4.5\" wide. Heavy resin. The fel...  \n568899   Please remember the brand name usually run sma...  \n1365752  Used like new condition Can be used on PS4 (yo...  ",
      "text/html": "<div>\n<style scoped>\n    .dataframe tbody tr th:only-of-type {\n        vertical-align: middle;\n    }\n\n    .dataframe tbody tr th {\n        vertical-align: top;\n    }\n\n    .dataframe thead th {\n        text-align: right;\n    }\n</style>\n<table border=\"1\" class=\"dataframe\">\n  <thead>\n    <tr style=\"text-align: right;\">\n      <th></th>\n      <th>train_id</th>\n      <th>name</th>\n      <th>item_condition_id</th>\n      <th>category_name</th>\n      <th>brand_name</th>\n      <th>shipping</th>\n      <th>item_description</th>\n    </tr>\n  </thead>\n  <tbody>\n    <tr>\n      <th>604635</th>\n      <td>604635</td>\n      <td>Enzo</td>\n      <td>3</td>\n      <td>Women/Shoes/Mules &amp; Clogs</td>\n      <td>missing</td>\n      <td>0</td>\n      <td>Enzo Angiolini Mules/Clogs. Super Cute with so...</td>\n    </tr>\n    <tr>\n      <th>496799</th>\n      <td>496799</td>\n      <td>Black dress</td>\n      <td>3</td>\n      <td>Women/Dresses/Full-Length</td>\n      <td>missing</td>\n      <td>1</td>\n      <td>Xl long black dress Solid under with lace over...</td>\n    </tr>\n    <tr>\n      <th>1035231</th>\n      <td>1035231</td>\n      <td>2 items for Brittany</td>\n      <td>1</td>\n      <td>Electronics/Cell Phones &amp; Accessories/Cables &amp;...</td>\n      <td>missing</td>\n      <td>0</td>\n      <td>- Urban Decay Eyeshadow This has never been us...</td>\n    </tr>\n    <tr>\n      <th>628659</th>\n      <td>628659</td>\n      <td>Texas budle</td>\n      <td>2</td>\n      <td>Women/Tops &amp; Blouses/T-Shirts</td>\n      <td>missing</td>\n      <td>0</td>\n      <td>Very cute!! No flaws</td>\n    </tr>\n    <tr>\n      <th>261459</th>\n      <td>261459</td>\n      <td>North face rain coat</td>\n      <td>3</td>\n      <td>Women/Athletic Apparel/Jackets</td>\n      <td>The North Face</td>\n      <td>0</td>\n      <td>Sea foam green rain coat Size 18 XL in youth I...</td>\n    </tr>\n    <tr>\n      <th>959361</th>\n      <td>959361</td>\n      <td>Michael kors crossbody bag</td>\n      <td>3</td>\n      <td>Women/Women's Handbags/Messenger &amp; Crossbody</td>\n      <td>Michael Kors</td>\n      <td>0</td>\n      <td>Used , the color is rose gold</td>\n    </tr>\n    <tr>\n      <th>199415</th>\n      <td>199415</td>\n      <td>Cream studded wedges</td>\n      <td>3</td>\n      <td>Women/Shoes/Sandals</td>\n      <td>missing</td>\n      <td>0</td>\n      <td>The brand is Hot Rated purchased at Buckle. I ...</td>\n    </tr>\n    <tr>\n      <th>1460850</th>\n      <td>1460850</td>\n      <td>Pink and gold trinket box</td>\n      <td>3</td>\n      <td>Home/Home Décor/Home Décor Accents</td>\n      <td>missing</td>\n      <td>0</td>\n      <td>5.75\" tall and 4.5\" wide. Heavy resin. The fel...</td>\n    </tr>\n    <tr>\n      <th>568899</th>\n      <td>568899</td>\n      <td>True religion button shirt slimsize XXXL</td>\n      <td>3</td>\n      <td>Men/Tops/T-shirts</td>\n      <td>True Religion Brand Jeans</td>\n      <td>1</td>\n      <td>Please remember the brand name usually run sma...</td>\n    </tr>\n    <tr>\n      <th>1365752</th>\n      <td>1365752</td>\n      <td>WD Scorpio Blue 1TB 2.5 hard drive</td>\n      <td>3</td>\n      <td>Electronics/Computers &amp; Tablets/Drives, Storag...</td>\n      <td>Western Digital</td>\n      <td>1</td>\n      <td>Used like new condition Can be used on PS4 (yo...</td>\n    </tr>\n  </tbody>\n</table>\n</div>"
     },
     "execution_count": 2,
     "metadata": {},
     "output_type": "execute_result"
    }
   ],
   "source": [
    "dataset = pd.read_csv('data/train.tsv', sep='\\t', header=0)\n",
    "dataset['category_name'] = dataset['category_name'].fillna('Other').astype(str)\n",
    "dataset['brand_name'] = dataset['brand_name'].fillna('missing').astype(str)\n",
    "dataset['shipping'] = dataset['shipping'].astype(str)  # makes this categorical\n",
    "dataset['item_condition_id'] = dataset['item_condition_id'].astype(str)\n",
    "dataset['item_description'] = dataset['item_description'].fillna('None')\n",
    "\n",
    "X = dataset.loc[:, dataset.columns != 'price']\n",
    "Y = np.log1p(dataset['price'])\n",
    "\n",
    "# 80% training data, 20% test data\n",
    "X_train, X_test, Y_train, Y_test = train_test_split(X, Y, test_size=0.2, random_state=0)\n",
    "X_train.head(10)"
   ],
   "metadata": {
    "collapsed": false
   }
  },
  {
   "cell_type": "code",
   "execution_count": 3,
   "metadata": {
    "collapsed": true
   },
   "outputs": [
    {
     "name": "stdout",
     "output_type": "stream",
     "text": [
      "CPU times: user 43.1 s, sys: 11.2 s, total: 54.3 s\n",
      "Wall time: 5min 31s\n"
     ]
    }
   ],
   "source": [
    "% % time\n",
    "\n",
    "preprocessor = CountVectorizer().build_preprocessor()\n",
    "\n",
    "\n",
    "def build_field_preprocessor(field):\n",
    "    field_idx = list(X_train.columns).index(field)\n",
    "    return lambda x: preprocessor(x[field_idx])  # this preprocesses like stripping accents, etc.\n",
    "\n",
    "\n",
    "vectorizer = FeatureUnion([\n",
    "    ('name', CountVectorizer(\n",
    "        ngram_range=(1, 2),  # extract words and pairs of words\n",
    "        max_features=50_000,\n",
    "        preprocessor=build_field_preprocessor('name')\n",
    "    )),\n",
    "    ('category_name', CountVectorizer(\n",
    "        token_pattern='.+',  # separate by space\n",
    "        preprocessor=build_field_preprocessor('category_name')\n",
    "    )),\n",
    "    ('brand_name', CountVectorizer(\n",
    "        token_pattern='.+',  # separate by space\n",
    "        preprocessor=build_field_preprocessor('brand_name')\n",
    "    )),\n",
    "    ('shipping', CountVectorizer(\n",
    "        token_pattern='\\d+',  # decimal numbers\n",
    "        preprocessor=build_field_preprocessor('shipping')\n",
    "    )),\n",
    "    ('item_condition_id', CountVectorizer(\n",
    "        token_pattern='\\d+',  # decimal numbers\n",
    "        preprocessor=build_field_preprocessor('item_condition_id')\n",
    "    )),\n",
    "    ('item_description', TfidfVectorizer(\n",
    "        ngram_range=(1, 3),  # up to three words in a sequence\n",
    "        max_features=1_000_00,\n",
    "        preprocessor=build_field_preprocessor('item_description')\n",
    "    ))\n",
    "], n_jobs=8)\n",
    "\n",
    "X_train_transformed = vectorizer.fit_transform(X_train.values)\n",
    "X_test_transformed = vectorizer.transform(X_test.values)  # don't fit to the test"
   ]
  },
  {
   "cell_type": "code",
   "execution_count": 7,
   "outputs": [
    {
     "name": "stderr",
     "output_type": "stream",
     "text": [
      " This problem is unconstrained.\n"
     ]
    },
    {
     "name": "stdout",
     "output_type": "stream",
     "text": [
      "RUNNING THE L-BFGS-B CODE\n",
      "\n",
      "           * * *\n",
      "\n",
      "Machine precision = 2.220D-16\n",
      " N =     15594201     M =           10\n",
      "\n",
      "At X0         0 variables are exactly at the bounds\n",
      "\n",
      "At iterate    0    f=  4.15688D+00    |proj g|=  2.78441D+00\n",
      "\n",
      "At iterate    1    f=  3.05169D-01    |proj g|=  1.00781D-01\n",
      "\n",
      "At iterate    2    f=  2.93430D-01    |proj g|=  6.95738D-02\n",
      "\n",
      "At iterate    3    f=  2.87249D-01    |proj g|=  4.63349D-02\n",
      "\n",
      "At iterate    4    f=  2.55249D-01    |proj g|=  4.43961D-02\n",
      "\n",
      "At iterate    5    f=  2.48086D-01    |proj g|=  2.48983D-02\n",
      "\n",
      "At iterate    6    f=  2.38240D-01    |proj g|=  9.93183D-03\n",
      "\n",
      "At iterate    7    f=  2.31788D-01    |proj g|=  1.73269D-02\n",
      "\n",
      "At iterate    8    f=  2.23827D-01    |proj g|=  1.37754D-02\n",
      "\n",
      "At iterate    9    f=  2.08602D-01    |proj g|=  2.01270D-02\n",
      "\n",
      "At iterate   10    f=  1.94359D-01    |proj g|=  3.72274D-02\n",
      "\n",
      "At iterate   11    f=  1.88489D-01    |proj g|=  3.27773D-02\n",
      "\n",
      "At iterate   12    f=  1.81555D-01    |proj g|=  1.36396D-02\n",
      "\n",
      "At iterate   13    f=  1.78389D-01    |proj g|=  8.84232D-03\n",
      "\n",
      "At iterate   14    f=  1.76766D-01    |proj g|=  4.94819D-02\n",
      "\n",
      "At iterate   15    f=  1.74396D-01    |proj g|=  2.62166D-02\n",
      "\n",
      "At iterate   16    f=  1.72410D-01    |proj g|=  4.82085D-03\n",
      "\n",
      "At iterate   17    f=  1.70941D-01    |proj g|=  5.74003D-03\n",
      "\n",
      "At iterate   18    f=  1.68985D-01    |proj g|=  1.30718D-02\n",
      "\n",
      "At iterate   19    f=  1.66598D-01    |proj g|=  1.17362D-02\n",
      "\n",
      "At iterate   20    f=  1.61944D-01    |proj g|=  7.27970D-03\n",
      "\n",
      "At iterate   21    f=  1.59358D-01    |proj g|=  1.19462D-02\n"
     ]
    },
    {
     "ename": "KeyboardInterrupt",
     "evalue": "",
     "output_type": "error",
     "traceback": [
      "\u001B[0;31m---------------------------------------------------------------------------\u001B[0m",
      "\u001B[0;31mKeyboardInterrupt\u001B[0m                         Traceback (most recent call last)",
      "File \u001B[0;32m<timed exec>:16\u001B[0m, in \u001B[0;36m<module>\u001B[0;34m\u001B[0m\n",
      "File \u001B[0;32m~/opt/anaconda3/envs/ds/lib/python3.9/site-packages/sklearn/neural_network/_multilayer_perceptron.py:762\u001B[0m, in \u001B[0;36mBaseMultilayerPerceptron.fit\u001B[0;34m(self, X, y)\u001B[0m\n\u001B[1;32m    745\u001B[0m \u001B[38;5;28;01mdef\u001B[39;00m \u001B[38;5;21mfit\u001B[39m(\u001B[38;5;28mself\u001B[39m, X, y):\n\u001B[1;32m    746\u001B[0m     \u001B[38;5;124;03m\"\"\"Fit the model to data matrix X and target(s) y.\u001B[39;00m\n\u001B[1;32m    747\u001B[0m \n\u001B[1;32m    748\u001B[0m \u001B[38;5;124;03m    Parameters\u001B[39;00m\n\u001B[0;32m   (...)\u001B[0m\n\u001B[1;32m    760\u001B[0m \u001B[38;5;124;03m        Returns a trained MLP model.\u001B[39;00m\n\u001B[1;32m    761\u001B[0m \u001B[38;5;124;03m    \"\"\"\u001B[39;00m\n\u001B[0;32m--> 762\u001B[0m     \u001B[38;5;28;01mreturn\u001B[39;00m \u001B[38;5;28;43mself\u001B[39;49m\u001B[38;5;241;43m.\u001B[39;49m\u001B[43m_fit\u001B[49m\u001B[43m(\u001B[49m\u001B[43mX\u001B[49m\u001B[43m,\u001B[49m\u001B[43m \u001B[49m\u001B[43my\u001B[49m\u001B[43m,\u001B[49m\u001B[43m \u001B[49m\u001B[43mincremental\u001B[49m\u001B[38;5;241;43m=\u001B[39;49m\u001B[38;5;28;43;01mFalse\u001B[39;49;00m\u001B[43m)\u001B[49m\n",
      "File \u001B[0;32m~/opt/anaconda3/envs/ds/lib/python3.9/site-packages/sklearn/neural_network/_multilayer_perceptron.py:441\u001B[0m, in \u001B[0;36mBaseMultilayerPerceptron._fit\u001B[0;34m(self, X, y, incremental)\u001B[0m\n\u001B[1;32m    439\u001B[0m \u001B[38;5;66;03m# Run the LBFGS solver\u001B[39;00m\n\u001B[1;32m    440\u001B[0m \u001B[38;5;28;01melif\u001B[39;00m \u001B[38;5;28mself\u001B[39m\u001B[38;5;241m.\u001B[39msolver \u001B[38;5;241m==\u001B[39m \u001B[38;5;124m\"\u001B[39m\u001B[38;5;124mlbfgs\u001B[39m\u001B[38;5;124m\"\u001B[39m:\n\u001B[0;32m--> 441\u001B[0m     \u001B[38;5;28;43mself\u001B[39;49m\u001B[38;5;241;43m.\u001B[39;49m\u001B[43m_fit_lbfgs\u001B[49m\u001B[43m(\u001B[49m\n\u001B[1;32m    442\u001B[0m \u001B[43m        \u001B[49m\u001B[43mX\u001B[49m\u001B[43m,\u001B[49m\u001B[43m \u001B[49m\u001B[43my\u001B[49m\u001B[43m,\u001B[49m\u001B[43m \u001B[49m\u001B[43mactivations\u001B[49m\u001B[43m,\u001B[49m\u001B[43m \u001B[49m\u001B[43mdeltas\u001B[49m\u001B[43m,\u001B[49m\u001B[43m \u001B[49m\u001B[43mcoef_grads\u001B[49m\u001B[43m,\u001B[49m\u001B[43m \u001B[49m\u001B[43mintercept_grads\u001B[49m\u001B[43m,\u001B[49m\u001B[43m \u001B[49m\u001B[43mlayer_units\u001B[49m\n\u001B[1;32m    443\u001B[0m \u001B[43m    \u001B[49m\u001B[43m)\u001B[49m\n\u001B[1;32m    445\u001B[0m \u001B[38;5;66;03m# validate parameter weights\u001B[39;00m\n\u001B[1;32m    446\u001B[0m weights \u001B[38;5;241m=\u001B[39m chain(\u001B[38;5;28mself\u001B[39m\u001B[38;5;241m.\u001B[39mcoefs_, \u001B[38;5;28mself\u001B[39m\u001B[38;5;241m.\u001B[39mintercepts_)\n",
      "File \u001B[0;32m~/opt/anaconda3/envs/ds/lib/python3.9/site-packages/sklearn/neural_network/_multilayer_perceptron.py:546\u001B[0m, in \u001B[0;36mBaseMultilayerPerceptron._fit_lbfgs\u001B[0;34m(self, X, y, activations, deltas, coef_grads, intercept_grads, layer_units)\u001B[0m\n\u001B[1;32m    543\u001B[0m \u001B[38;5;28;01melse\u001B[39;00m:\n\u001B[1;32m    544\u001B[0m     iprint \u001B[38;5;241m=\u001B[39m \u001B[38;5;241m-\u001B[39m\u001B[38;5;241m1\u001B[39m\n\u001B[0;32m--> 546\u001B[0m opt_res \u001B[38;5;241m=\u001B[39m \u001B[43mscipy\u001B[49m\u001B[38;5;241;43m.\u001B[39;49m\u001B[43moptimize\u001B[49m\u001B[38;5;241;43m.\u001B[39;49m\u001B[43mminimize\u001B[49m\u001B[43m(\u001B[49m\n\u001B[1;32m    547\u001B[0m \u001B[43m    \u001B[49m\u001B[38;5;28;43mself\u001B[39;49m\u001B[38;5;241;43m.\u001B[39;49m\u001B[43m_loss_grad_lbfgs\u001B[49m\u001B[43m,\u001B[49m\n\u001B[1;32m    548\u001B[0m \u001B[43m    \u001B[49m\u001B[43mpacked_coef_inter\u001B[49m\u001B[43m,\u001B[49m\n\u001B[1;32m    549\u001B[0m \u001B[43m    \u001B[49m\u001B[43mmethod\u001B[49m\u001B[38;5;241;43m=\u001B[39;49m\u001B[38;5;124;43m\"\u001B[39;49m\u001B[38;5;124;43mL-BFGS-B\u001B[39;49m\u001B[38;5;124;43m\"\u001B[39;49m\u001B[43m,\u001B[49m\n\u001B[1;32m    550\u001B[0m \u001B[43m    \u001B[49m\u001B[43mjac\u001B[49m\u001B[38;5;241;43m=\u001B[39;49m\u001B[38;5;28;43;01mTrue\u001B[39;49;00m\u001B[43m,\u001B[49m\n\u001B[1;32m    551\u001B[0m \u001B[43m    \u001B[49m\u001B[43moptions\u001B[49m\u001B[38;5;241;43m=\u001B[39;49m\u001B[43m{\u001B[49m\n\u001B[1;32m    552\u001B[0m \u001B[43m        \u001B[49m\u001B[38;5;124;43m\"\u001B[39;49m\u001B[38;5;124;43mmaxfun\u001B[39;49m\u001B[38;5;124;43m\"\u001B[39;49m\u001B[43m:\u001B[49m\u001B[43m \u001B[49m\u001B[38;5;28;43mself\u001B[39;49m\u001B[38;5;241;43m.\u001B[39;49m\u001B[43mmax_fun\u001B[49m\u001B[43m,\u001B[49m\n\u001B[1;32m    553\u001B[0m \u001B[43m        \u001B[49m\u001B[38;5;124;43m\"\u001B[39;49m\u001B[38;5;124;43mmaxiter\u001B[39;49m\u001B[38;5;124;43m\"\u001B[39;49m\u001B[43m:\u001B[49m\u001B[43m \u001B[49m\u001B[38;5;28;43mself\u001B[39;49m\u001B[38;5;241;43m.\u001B[39;49m\u001B[43mmax_iter\u001B[49m\u001B[43m,\u001B[49m\n\u001B[1;32m    554\u001B[0m \u001B[43m        \u001B[49m\u001B[38;5;124;43m\"\u001B[39;49m\u001B[38;5;124;43miprint\u001B[39;49m\u001B[38;5;124;43m\"\u001B[39;49m\u001B[43m:\u001B[49m\u001B[43m \u001B[49m\u001B[43miprint\u001B[49m\u001B[43m,\u001B[49m\n\u001B[1;32m    555\u001B[0m \u001B[43m        \u001B[49m\u001B[38;5;124;43m\"\u001B[39;49m\u001B[38;5;124;43mgtol\u001B[39;49m\u001B[38;5;124;43m\"\u001B[39;49m\u001B[43m:\u001B[49m\u001B[43m \u001B[49m\u001B[38;5;28;43mself\u001B[39;49m\u001B[38;5;241;43m.\u001B[39;49m\u001B[43mtol\u001B[49m\u001B[43m,\u001B[49m\n\u001B[1;32m    556\u001B[0m \u001B[43m    \u001B[49m\u001B[43m}\u001B[49m\u001B[43m,\u001B[49m\n\u001B[1;32m    557\u001B[0m \u001B[43m    \u001B[49m\u001B[43margs\u001B[49m\u001B[38;5;241;43m=\u001B[39;49m\u001B[43m(\u001B[49m\u001B[43mX\u001B[49m\u001B[43m,\u001B[49m\u001B[43m \u001B[49m\u001B[43my\u001B[49m\u001B[43m,\u001B[49m\u001B[43m \u001B[49m\u001B[43mactivations\u001B[49m\u001B[43m,\u001B[49m\u001B[43m \u001B[49m\u001B[43mdeltas\u001B[49m\u001B[43m,\u001B[49m\u001B[43m \u001B[49m\u001B[43mcoef_grads\u001B[49m\u001B[43m,\u001B[49m\u001B[43m \u001B[49m\u001B[43mintercept_grads\u001B[49m\u001B[43m)\u001B[49m\u001B[43m,\u001B[49m\n\u001B[1;32m    558\u001B[0m \u001B[43m\u001B[49m\u001B[43m)\u001B[49m\n\u001B[1;32m    559\u001B[0m \u001B[38;5;28mself\u001B[39m\u001B[38;5;241m.\u001B[39mn_iter_ \u001B[38;5;241m=\u001B[39m _check_optimize_result(\u001B[38;5;124m\"\u001B[39m\u001B[38;5;124mlbfgs\u001B[39m\u001B[38;5;124m\"\u001B[39m, opt_res, \u001B[38;5;28mself\u001B[39m\u001B[38;5;241m.\u001B[39mmax_iter)\n\u001B[1;32m    560\u001B[0m \u001B[38;5;28mself\u001B[39m\u001B[38;5;241m.\u001B[39mloss_ \u001B[38;5;241m=\u001B[39m opt_res\u001B[38;5;241m.\u001B[39mfun\n",
      "File \u001B[0;32m~/opt/anaconda3/envs/ds/lib/python3.9/site-packages/scipy/optimize/_minimize.py:699\u001B[0m, in \u001B[0;36mminimize\u001B[0;34m(fun, x0, args, method, jac, hess, hessp, bounds, constraints, tol, callback, options)\u001B[0m\n\u001B[1;32m    696\u001B[0m     res \u001B[38;5;241m=\u001B[39m _minimize_newtoncg(fun, x0, args, jac, hess, hessp, callback,\n\u001B[1;32m    697\u001B[0m                              \u001B[38;5;241m*\u001B[39m\u001B[38;5;241m*\u001B[39moptions)\n\u001B[1;32m    698\u001B[0m \u001B[38;5;28;01melif\u001B[39;00m meth \u001B[38;5;241m==\u001B[39m \u001B[38;5;124m'\u001B[39m\u001B[38;5;124ml-bfgs-b\u001B[39m\u001B[38;5;124m'\u001B[39m:\n\u001B[0;32m--> 699\u001B[0m     res \u001B[38;5;241m=\u001B[39m \u001B[43m_minimize_lbfgsb\u001B[49m\u001B[43m(\u001B[49m\u001B[43mfun\u001B[49m\u001B[43m,\u001B[49m\u001B[43m \u001B[49m\u001B[43mx0\u001B[49m\u001B[43m,\u001B[49m\u001B[43m \u001B[49m\u001B[43margs\u001B[49m\u001B[43m,\u001B[49m\u001B[43m \u001B[49m\u001B[43mjac\u001B[49m\u001B[43m,\u001B[49m\u001B[43m \u001B[49m\u001B[43mbounds\u001B[49m\u001B[43m,\u001B[49m\n\u001B[1;32m    700\u001B[0m \u001B[43m                           \u001B[49m\u001B[43mcallback\u001B[49m\u001B[38;5;241;43m=\u001B[39;49m\u001B[43mcallback\u001B[49m\u001B[43m,\u001B[49m\u001B[43m \u001B[49m\u001B[38;5;241;43m*\u001B[39;49m\u001B[38;5;241;43m*\u001B[39;49m\u001B[43moptions\u001B[49m\u001B[43m)\u001B[49m\n\u001B[1;32m    701\u001B[0m \u001B[38;5;28;01melif\u001B[39;00m meth \u001B[38;5;241m==\u001B[39m \u001B[38;5;124m'\u001B[39m\u001B[38;5;124mtnc\u001B[39m\u001B[38;5;124m'\u001B[39m:\n\u001B[1;32m    702\u001B[0m     res \u001B[38;5;241m=\u001B[39m _minimize_tnc(fun, x0, args, jac, bounds, callback\u001B[38;5;241m=\u001B[39mcallback,\n\u001B[1;32m    703\u001B[0m                         \u001B[38;5;241m*\u001B[39m\u001B[38;5;241m*\u001B[39moptions)\n",
      "File \u001B[0;32m~/opt/anaconda3/envs/ds/lib/python3.9/site-packages/scipy/optimize/_lbfgsb_py.py:362\u001B[0m, in \u001B[0;36m_minimize_lbfgsb\u001B[0;34m(fun, x0, args, jac, bounds, disp, maxcor, ftol, gtol, eps, maxfun, maxiter, iprint, callback, maxls, finite_diff_rel_step, **unknown_options)\u001B[0m\n\u001B[1;32m    356\u001B[0m task_str \u001B[38;5;241m=\u001B[39m task\u001B[38;5;241m.\u001B[39mtobytes()\n\u001B[1;32m    357\u001B[0m \u001B[38;5;28;01mif\u001B[39;00m task_str\u001B[38;5;241m.\u001B[39mstartswith(\u001B[38;5;124mb\u001B[39m\u001B[38;5;124m'\u001B[39m\u001B[38;5;124mFG\u001B[39m\u001B[38;5;124m'\u001B[39m):\n\u001B[1;32m    358\u001B[0m     \u001B[38;5;66;03m# The minimization routine wants f and g at the current x.\u001B[39;00m\n\u001B[1;32m    359\u001B[0m     \u001B[38;5;66;03m# Note that interruptions due to maxfun are postponed\u001B[39;00m\n\u001B[1;32m    360\u001B[0m     \u001B[38;5;66;03m# until the completion of the current minimization iteration.\u001B[39;00m\n\u001B[1;32m    361\u001B[0m     \u001B[38;5;66;03m# Overwrite f and g:\u001B[39;00m\n\u001B[0;32m--> 362\u001B[0m     f, g \u001B[38;5;241m=\u001B[39m \u001B[43mfunc_and_grad\u001B[49m\u001B[43m(\u001B[49m\u001B[43mx\u001B[49m\u001B[43m)\u001B[49m\n\u001B[1;32m    363\u001B[0m \u001B[38;5;28;01melif\u001B[39;00m task_str\u001B[38;5;241m.\u001B[39mstartswith(\u001B[38;5;124mb\u001B[39m\u001B[38;5;124m'\u001B[39m\u001B[38;5;124mNEW_X\u001B[39m\u001B[38;5;124m'\u001B[39m):\n\u001B[1;32m    364\u001B[0m     \u001B[38;5;66;03m# new iteration\u001B[39;00m\n\u001B[1;32m    365\u001B[0m     n_iterations \u001B[38;5;241m+\u001B[39m\u001B[38;5;241m=\u001B[39m \u001B[38;5;241m1\u001B[39m\n",
      "File \u001B[0;32m~/opt/anaconda3/envs/ds/lib/python3.9/site-packages/scipy/optimize/_differentiable_functions.py:285\u001B[0m, in \u001B[0;36mScalarFunction.fun_and_grad\u001B[0;34m(self, x)\u001B[0m\n\u001B[1;32m    283\u001B[0m \u001B[38;5;28;01mif\u001B[39;00m \u001B[38;5;129;01mnot\u001B[39;00m np\u001B[38;5;241m.\u001B[39marray_equal(x, \u001B[38;5;28mself\u001B[39m\u001B[38;5;241m.\u001B[39mx):\n\u001B[1;32m    284\u001B[0m     \u001B[38;5;28mself\u001B[39m\u001B[38;5;241m.\u001B[39m_update_x_impl(x)\n\u001B[0;32m--> 285\u001B[0m \u001B[38;5;28;43mself\u001B[39;49m\u001B[38;5;241;43m.\u001B[39;49m\u001B[43m_update_fun\u001B[49m\u001B[43m(\u001B[49m\u001B[43m)\u001B[49m\n\u001B[1;32m    286\u001B[0m \u001B[38;5;28mself\u001B[39m\u001B[38;5;241m.\u001B[39m_update_grad()\n\u001B[1;32m    287\u001B[0m \u001B[38;5;28;01mreturn\u001B[39;00m \u001B[38;5;28mself\u001B[39m\u001B[38;5;241m.\u001B[39mf, \u001B[38;5;28mself\u001B[39m\u001B[38;5;241m.\u001B[39mg\n",
      "File \u001B[0;32m~/opt/anaconda3/envs/ds/lib/python3.9/site-packages/scipy/optimize/_differentiable_functions.py:251\u001B[0m, in \u001B[0;36mScalarFunction._update_fun\u001B[0;34m(self)\u001B[0m\n\u001B[1;32m    249\u001B[0m \u001B[38;5;28;01mdef\u001B[39;00m \u001B[38;5;21m_update_fun\u001B[39m(\u001B[38;5;28mself\u001B[39m):\n\u001B[1;32m    250\u001B[0m     \u001B[38;5;28;01mif\u001B[39;00m \u001B[38;5;129;01mnot\u001B[39;00m \u001B[38;5;28mself\u001B[39m\u001B[38;5;241m.\u001B[39mf_updated:\n\u001B[0;32m--> 251\u001B[0m         \u001B[38;5;28;43mself\u001B[39;49m\u001B[38;5;241;43m.\u001B[39;49m\u001B[43m_update_fun_impl\u001B[49m\u001B[43m(\u001B[49m\u001B[43m)\u001B[49m\n\u001B[1;32m    252\u001B[0m         \u001B[38;5;28mself\u001B[39m\u001B[38;5;241m.\u001B[39mf_updated \u001B[38;5;241m=\u001B[39m \u001B[38;5;28;01mTrue\u001B[39;00m\n",
      "File \u001B[0;32m~/opt/anaconda3/envs/ds/lib/python3.9/site-packages/scipy/optimize/_differentiable_functions.py:155\u001B[0m, in \u001B[0;36mScalarFunction.__init__.<locals>.update_fun\u001B[0;34m()\u001B[0m\n\u001B[1;32m    154\u001B[0m \u001B[38;5;28;01mdef\u001B[39;00m \u001B[38;5;21mupdate_fun\u001B[39m():\n\u001B[0;32m--> 155\u001B[0m     \u001B[38;5;28mself\u001B[39m\u001B[38;5;241m.\u001B[39mf \u001B[38;5;241m=\u001B[39m \u001B[43mfun_wrapped\u001B[49m\u001B[43m(\u001B[49m\u001B[38;5;28;43mself\u001B[39;49m\u001B[38;5;241;43m.\u001B[39;49m\u001B[43mx\u001B[49m\u001B[43m)\u001B[49m\n",
      "File \u001B[0;32m~/opt/anaconda3/envs/ds/lib/python3.9/site-packages/scipy/optimize/_differentiable_functions.py:137\u001B[0m, in \u001B[0;36mScalarFunction.__init__.<locals>.fun_wrapped\u001B[0;34m(x)\u001B[0m\n\u001B[1;32m    133\u001B[0m \u001B[38;5;28mself\u001B[39m\u001B[38;5;241m.\u001B[39mnfev \u001B[38;5;241m+\u001B[39m\u001B[38;5;241m=\u001B[39m \u001B[38;5;241m1\u001B[39m\n\u001B[1;32m    134\u001B[0m \u001B[38;5;66;03m# Send a copy because the user may overwrite it.\u001B[39;00m\n\u001B[1;32m    135\u001B[0m \u001B[38;5;66;03m# Overwriting results in undefined behaviour because\u001B[39;00m\n\u001B[1;32m    136\u001B[0m \u001B[38;5;66;03m# fun(self.x) will change self.x, with the two no longer linked.\u001B[39;00m\n\u001B[0;32m--> 137\u001B[0m fx \u001B[38;5;241m=\u001B[39m \u001B[43mfun\u001B[49m\u001B[43m(\u001B[49m\u001B[43mnp\u001B[49m\u001B[38;5;241;43m.\u001B[39;49m\u001B[43mcopy\u001B[49m\u001B[43m(\u001B[49m\u001B[43mx\u001B[49m\u001B[43m)\u001B[49m\u001B[43m,\u001B[49m\u001B[43m \u001B[49m\u001B[38;5;241;43m*\u001B[39;49m\u001B[43margs\u001B[49m\u001B[43m)\u001B[49m\n\u001B[1;32m    138\u001B[0m \u001B[38;5;66;03m# Make sure the function returns a true scalar\u001B[39;00m\n\u001B[1;32m    139\u001B[0m \u001B[38;5;28;01mif\u001B[39;00m \u001B[38;5;129;01mnot\u001B[39;00m np\u001B[38;5;241m.\u001B[39misscalar(fx):\n",
      "File \u001B[0;32m~/opt/anaconda3/envs/ds/lib/python3.9/site-packages/scipy/optimize/_optimize.py:76\u001B[0m, in \u001B[0;36mMemoizeJac.__call__\u001B[0;34m(self, x, *args)\u001B[0m\n\u001B[1;32m     74\u001B[0m \u001B[38;5;28;01mdef\u001B[39;00m \u001B[38;5;21m__call__\u001B[39m(\u001B[38;5;28mself\u001B[39m, x, \u001B[38;5;241m*\u001B[39margs):\n\u001B[1;32m     75\u001B[0m     \u001B[38;5;124;03m\"\"\" returns the the function value \"\"\"\u001B[39;00m\n\u001B[0;32m---> 76\u001B[0m     \u001B[38;5;28;43mself\u001B[39;49m\u001B[38;5;241;43m.\u001B[39;49m\u001B[43m_compute_if_needed\u001B[49m\u001B[43m(\u001B[49m\u001B[43mx\u001B[49m\u001B[43m,\u001B[49m\u001B[43m \u001B[49m\u001B[38;5;241;43m*\u001B[39;49m\u001B[43margs\u001B[49m\u001B[43m)\u001B[49m\n\u001B[1;32m     77\u001B[0m     \u001B[38;5;28;01mreturn\u001B[39;00m \u001B[38;5;28mself\u001B[39m\u001B[38;5;241m.\u001B[39m_value\n",
      "File \u001B[0;32m~/opt/anaconda3/envs/ds/lib/python3.9/site-packages/scipy/optimize/_optimize.py:70\u001B[0m, in \u001B[0;36mMemoizeJac._compute_if_needed\u001B[0;34m(self, x, *args)\u001B[0m\n\u001B[1;32m     68\u001B[0m \u001B[38;5;28;01mif\u001B[39;00m \u001B[38;5;129;01mnot\u001B[39;00m np\u001B[38;5;241m.\u001B[39mall(x \u001B[38;5;241m==\u001B[39m \u001B[38;5;28mself\u001B[39m\u001B[38;5;241m.\u001B[39mx) \u001B[38;5;129;01mor\u001B[39;00m \u001B[38;5;28mself\u001B[39m\u001B[38;5;241m.\u001B[39m_value \u001B[38;5;129;01mis\u001B[39;00m \u001B[38;5;28;01mNone\u001B[39;00m \u001B[38;5;129;01mor\u001B[39;00m \u001B[38;5;28mself\u001B[39m\u001B[38;5;241m.\u001B[39mjac \u001B[38;5;129;01mis\u001B[39;00m \u001B[38;5;28;01mNone\u001B[39;00m:\n\u001B[1;32m     69\u001B[0m     \u001B[38;5;28mself\u001B[39m\u001B[38;5;241m.\u001B[39mx \u001B[38;5;241m=\u001B[39m np\u001B[38;5;241m.\u001B[39masarray(x)\u001B[38;5;241m.\u001B[39mcopy()\n\u001B[0;32m---> 70\u001B[0m     fg \u001B[38;5;241m=\u001B[39m \u001B[38;5;28;43mself\u001B[39;49m\u001B[38;5;241;43m.\u001B[39;49m\u001B[43mfun\u001B[49m\u001B[43m(\u001B[49m\u001B[43mx\u001B[49m\u001B[43m,\u001B[49m\u001B[43m \u001B[49m\u001B[38;5;241;43m*\u001B[39;49m\u001B[43margs\u001B[49m\u001B[43m)\u001B[49m\n\u001B[1;32m     71\u001B[0m     \u001B[38;5;28mself\u001B[39m\u001B[38;5;241m.\u001B[39mjac \u001B[38;5;241m=\u001B[39m fg[\u001B[38;5;241m1\u001B[39m]\n\u001B[1;32m     72\u001B[0m     \u001B[38;5;28mself\u001B[39m\u001B[38;5;241m.\u001B[39m_value \u001B[38;5;241m=\u001B[39m fg[\u001B[38;5;241m0\u001B[39m]\n",
      "File \u001B[0;32m~/opt/anaconda3/envs/ds/lib/python3.9/site-packages/sklearn/neural_network/_multilayer_perceptron.py:235\u001B[0m, in \u001B[0;36mBaseMultilayerPerceptron._loss_grad_lbfgs\u001B[0;34m(self, packed_coef_inter, X, y, activations, deltas, coef_grads, intercept_grads)\u001B[0m\n\u001B[1;32m    194\u001B[0m \u001B[38;5;124;03m\"\"\"Compute the MLP loss function and its corresponding derivatives\u001B[39;00m\n\u001B[1;32m    195\u001B[0m \u001B[38;5;124;03mwith respect to the different parameters given in the initialization.\u001B[39;00m\n\u001B[1;32m    196\u001B[0m \n\u001B[0;32m   (...)\u001B[0m\n\u001B[1;32m    232\u001B[0m \u001B[38;5;124;03mgrad : array-like, shape (number of nodes of all layers,)\u001B[39;00m\n\u001B[1;32m    233\u001B[0m \u001B[38;5;124;03m\"\"\"\u001B[39;00m\n\u001B[1;32m    234\u001B[0m \u001B[38;5;28mself\u001B[39m\u001B[38;5;241m.\u001B[39m_unpack(packed_coef_inter)\n\u001B[0;32m--> 235\u001B[0m loss, coef_grads, intercept_grads \u001B[38;5;241m=\u001B[39m \u001B[38;5;28;43mself\u001B[39;49m\u001B[38;5;241;43m.\u001B[39;49m\u001B[43m_backprop\u001B[49m\u001B[43m(\u001B[49m\n\u001B[1;32m    236\u001B[0m \u001B[43m    \u001B[49m\u001B[43mX\u001B[49m\u001B[43m,\u001B[49m\u001B[43m \u001B[49m\u001B[43my\u001B[49m\u001B[43m,\u001B[49m\u001B[43m \u001B[49m\u001B[43mactivations\u001B[49m\u001B[43m,\u001B[49m\u001B[43m \u001B[49m\u001B[43mdeltas\u001B[49m\u001B[43m,\u001B[49m\u001B[43m \u001B[49m\u001B[43mcoef_grads\u001B[49m\u001B[43m,\u001B[49m\u001B[43m \u001B[49m\u001B[43mintercept_grads\u001B[49m\n\u001B[1;32m    237\u001B[0m \u001B[43m\u001B[49m\u001B[43m)\u001B[49m\n\u001B[1;32m    238\u001B[0m grad \u001B[38;5;241m=\u001B[39m _pack(coef_grads, intercept_grads)\n\u001B[1;32m    239\u001B[0m \u001B[38;5;28;01mreturn\u001B[39;00m loss, grad\n",
      "File \u001B[0;32m~/opt/anaconda3/envs/ds/lib/python3.9/site-packages/sklearn/neural_network/_multilayer_perceptron.py:280\u001B[0m, in \u001B[0;36mBaseMultilayerPerceptron._backprop\u001B[0;34m(self, X, y, activations, deltas, coef_grads, intercept_grads)\u001B[0m\n\u001B[1;32m    277\u001B[0m n_samples \u001B[38;5;241m=\u001B[39m X\u001B[38;5;241m.\u001B[39mshape[\u001B[38;5;241m0\u001B[39m]\n\u001B[1;32m    279\u001B[0m \u001B[38;5;66;03m# Forward propagate\u001B[39;00m\n\u001B[0;32m--> 280\u001B[0m activations \u001B[38;5;241m=\u001B[39m \u001B[38;5;28;43mself\u001B[39;49m\u001B[38;5;241;43m.\u001B[39;49m\u001B[43m_forward_pass\u001B[49m\u001B[43m(\u001B[49m\u001B[43mactivations\u001B[49m\u001B[43m)\u001B[49m\n\u001B[1;32m    282\u001B[0m \u001B[38;5;66;03m# Get loss\u001B[39;00m\n\u001B[1;32m    283\u001B[0m loss_func_name \u001B[38;5;241m=\u001B[39m \u001B[38;5;28mself\u001B[39m\u001B[38;5;241m.\u001B[39mloss\n",
      "File \u001B[0;32m~/opt/anaconda3/envs/ds/lib/python3.9/site-packages/sklearn/neural_network/_multilayer_perceptron.py:131\u001B[0m, in \u001B[0;36mBaseMultilayerPerceptron._forward_pass\u001B[0;34m(self, activations)\u001B[0m\n\u001B[1;32m    129\u001B[0m \u001B[38;5;66;03m# Iterate over the hidden layers\u001B[39;00m\n\u001B[1;32m    130\u001B[0m \u001B[38;5;28;01mfor\u001B[39;00m i \u001B[38;5;129;01min\u001B[39;00m \u001B[38;5;28mrange\u001B[39m(\u001B[38;5;28mself\u001B[39m\u001B[38;5;241m.\u001B[39mn_layers_ \u001B[38;5;241m-\u001B[39m \u001B[38;5;241m1\u001B[39m):\n\u001B[0;32m--> 131\u001B[0m     activations[i \u001B[38;5;241m+\u001B[39m \u001B[38;5;241m1\u001B[39m] \u001B[38;5;241m=\u001B[39m \u001B[43msafe_sparse_dot\u001B[49m\u001B[43m(\u001B[49m\u001B[43mactivations\u001B[49m\u001B[43m[\u001B[49m\u001B[43mi\u001B[49m\u001B[43m]\u001B[49m\u001B[43m,\u001B[49m\u001B[43m \u001B[49m\u001B[38;5;28;43mself\u001B[39;49m\u001B[38;5;241;43m.\u001B[39;49m\u001B[43mcoefs_\u001B[49m\u001B[43m[\u001B[49m\u001B[43mi\u001B[49m\u001B[43m]\u001B[49m\u001B[43m)\u001B[49m\n\u001B[1;32m    132\u001B[0m     activations[i \u001B[38;5;241m+\u001B[39m \u001B[38;5;241m1\u001B[39m] \u001B[38;5;241m+\u001B[39m\u001B[38;5;241m=\u001B[39m \u001B[38;5;28mself\u001B[39m\u001B[38;5;241m.\u001B[39mintercepts_[i]\n\u001B[1;32m    134\u001B[0m     \u001B[38;5;66;03m# For the hidden layers\u001B[39;00m\n",
      "File \u001B[0;32m~/opt/anaconda3/envs/ds/lib/python3.9/site-packages/sklearn/utils/extmath.py:152\u001B[0m, in \u001B[0;36msafe_sparse_dot\u001B[0;34m(a, b, dense_output)\u001B[0m\n\u001B[1;32m    150\u001B[0m         ret \u001B[38;5;241m=\u001B[39m np\u001B[38;5;241m.\u001B[39mdot(a, b)\n\u001B[1;32m    151\u001B[0m \u001B[38;5;28;01melse\u001B[39;00m:\n\u001B[0;32m--> 152\u001B[0m     ret \u001B[38;5;241m=\u001B[39m \u001B[43ma\u001B[49m\u001B[43m \u001B[49m\u001B[38;5;241;43m@\u001B[39;49m\u001B[43m \u001B[49m\u001B[43mb\u001B[49m\n\u001B[1;32m    154\u001B[0m \u001B[38;5;28;01mif\u001B[39;00m (\n\u001B[1;32m    155\u001B[0m     sparse\u001B[38;5;241m.\u001B[39missparse(a)\n\u001B[1;32m    156\u001B[0m     \u001B[38;5;129;01mand\u001B[39;00m sparse\u001B[38;5;241m.\u001B[39missparse(b)\n\u001B[1;32m    157\u001B[0m     \u001B[38;5;129;01mand\u001B[39;00m dense_output\n\u001B[1;32m    158\u001B[0m     \u001B[38;5;129;01mand\u001B[39;00m \u001B[38;5;28mhasattr\u001B[39m(ret, \u001B[38;5;124m\"\u001B[39m\u001B[38;5;124mtoarray\u001B[39m\u001B[38;5;124m\"\u001B[39m)\n\u001B[1;32m    159\u001B[0m ):\n\u001B[1;32m    160\u001B[0m     \u001B[38;5;28;01mreturn\u001B[39;00m ret\u001B[38;5;241m.\u001B[39mtoarray()\n",
      "File \u001B[0;32m~/opt/anaconda3/envs/ds/lib/python3.9/site-packages/scipy/sparse/_base.py:630\u001B[0m, in \u001B[0;36mspmatrix.__matmul__\u001B[0;34m(self, other)\u001B[0m\n\u001B[1;32m    627\u001B[0m \u001B[38;5;28;01mif\u001B[39;00m isscalarlike(other):\n\u001B[1;32m    628\u001B[0m     \u001B[38;5;28;01mraise\u001B[39;00m \u001B[38;5;167;01mValueError\u001B[39;00m(\u001B[38;5;124m\"\u001B[39m\u001B[38;5;124mScalar operands are not allowed, \u001B[39m\u001B[38;5;124m\"\u001B[39m\n\u001B[1;32m    629\u001B[0m                      \u001B[38;5;124m\"\u001B[39m\u001B[38;5;124muse \u001B[39m\u001B[38;5;124m'\u001B[39m\u001B[38;5;124m*\u001B[39m\u001B[38;5;124m'\u001B[39m\u001B[38;5;124m instead\u001B[39m\u001B[38;5;124m\"\u001B[39m)\n\u001B[0;32m--> 630\u001B[0m \u001B[38;5;28;01mreturn\u001B[39;00m \u001B[38;5;28;43mself\u001B[39;49m\u001B[38;5;241;43m.\u001B[39;49m\u001B[43m_mul_dispatch\u001B[49m\u001B[43m(\u001B[49m\u001B[43mother\u001B[49m\u001B[43m)\u001B[49m\n",
      "File \u001B[0;32m~/opt/anaconda3/envs/ds/lib/python3.9/site-packages/scipy/sparse/_base.py:532\u001B[0m, in \u001B[0;36mspmatrix._mul_dispatch\u001B[0;34m(self, other)\u001B[0m\n\u001B[1;32m    530\u001B[0m         \u001B[38;5;28;01mreturn\u001B[39;00m \u001B[38;5;28mself\u001B[39m\u001B[38;5;241m.\u001B[39m_mul_vector(other\u001B[38;5;241m.\u001B[39mravel())\u001B[38;5;241m.\u001B[39mreshape(M, \u001B[38;5;241m1\u001B[39m)\n\u001B[1;32m    531\u001B[0m     \u001B[38;5;28;01melif\u001B[39;00m other\u001B[38;5;241m.\u001B[39mndim \u001B[38;5;241m==\u001B[39m \u001B[38;5;241m2\u001B[39m \u001B[38;5;129;01mand\u001B[39;00m other\u001B[38;5;241m.\u001B[39mshape[\u001B[38;5;241m0\u001B[39m] \u001B[38;5;241m==\u001B[39m N:\n\u001B[0;32m--> 532\u001B[0m         \u001B[38;5;28;01mreturn\u001B[39;00m \u001B[38;5;28;43mself\u001B[39;49m\u001B[38;5;241;43m.\u001B[39;49m\u001B[43m_mul_multivector\u001B[49m\u001B[43m(\u001B[49m\u001B[43mother\u001B[49m\u001B[43m)\u001B[49m\n\u001B[1;32m    534\u001B[0m \u001B[38;5;28;01mif\u001B[39;00m isscalarlike(other):\n\u001B[1;32m    535\u001B[0m     \u001B[38;5;66;03m# scalar value\u001B[39;00m\n\u001B[1;32m    536\u001B[0m     \u001B[38;5;28;01mreturn\u001B[39;00m \u001B[38;5;28mself\u001B[39m\u001B[38;5;241m.\u001B[39m_mul_scalar(other)\n",
      "File \u001B[0;32m~/opt/anaconda3/envs/ds/lib/python3.9/site-packages/scipy/sparse/_compressed.py:502\u001B[0m, in \u001B[0;36m_cs_matrix._mul_multivector\u001B[0;34m(self, other)\u001B[0m\n\u001B[1;32m    500\u001B[0m \u001B[38;5;66;03m# csr_matvecs or csc_matvecs\u001B[39;00m\n\u001B[1;32m    501\u001B[0m fn \u001B[38;5;241m=\u001B[39m \u001B[38;5;28mgetattr\u001B[39m(_sparsetools, \u001B[38;5;28mself\u001B[39m\u001B[38;5;241m.\u001B[39mformat \u001B[38;5;241m+\u001B[39m \u001B[38;5;124m'\u001B[39m\u001B[38;5;124m_matvecs\u001B[39m\u001B[38;5;124m'\u001B[39m)\n\u001B[0;32m--> 502\u001B[0m \u001B[43mfn\u001B[49m\u001B[43m(\u001B[49m\u001B[43mM\u001B[49m\u001B[43m,\u001B[49m\u001B[43m \u001B[49m\u001B[43mN\u001B[49m\u001B[43m,\u001B[49m\u001B[43m \u001B[49m\u001B[43mn_vecs\u001B[49m\u001B[43m,\u001B[49m\u001B[43m \u001B[49m\u001B[38;5;28;43mself\u001B[39;49m\u001B[38;5;241;43m.\u001B[39;49m\u001B[43mindptr\u001B[49m\u001B[43m,\u001B[49m\u001B[43m \u001B[49m\u001B[38;5;28;43mself\u001B[39;49m\u001B[38;5;241;43m.\u001B[39;49m\u001B[43mindices\u001B[49m\u001B[43m,\u001B[49m\u001B[43m \u001B[49m\u001B[38;5;28;43mself\u001B[39;49m\u001B[38;5;241;43m.\u001B[39;49m\u001B[43mdata\u001B[49m\u001B[43m,\u001B[49m\n\u001B[1;32m    503\u001B[0m \u001B[43m   \u001B[49m\u001B[43mother\u001B[49m\u001B[38;5;241;43m.\u001B[39;49m\u001B[43mravel\u001B[49m\u001B[43m(\u001B[49m\u001B[43m)\u001B[49m\u001B[43m,\u001B[49m\u001B[43m \u001B[49m\u001B[43mresult\u001B[49m\u001B[38;5;241;43m.\u001B[39;49m\u001B[43mravel\u001B[49m\u001B[43m(\u001B[49m\u001B[43m)\u001B[49m\u001B[43m)\u001B[49m\n\u001B[1;32m    505\u001B[0m \u001B[38;5;28;01mreturn\u001B[39;00m result\n",
      "\u001B[0;31mKeyboardInterrupt\u001B[0m: "
     ]
    }
   ],
   "source": [
    "%%time\n",
    "\n",
    "def rmsle(y_pred, y_true):\n",
    "    return np.sqrt(mean_squared_log_error(np.expm1(y_pred.clip(0)), np.expm1(y_true)))\n",
    "\n",
    "\n",
    "# model = make_pipeline(StandardScaler(with_mean=False), MLPRegressor(\n",
    "#     hidden_layer_sizes=[100, 100],\n",
    "#     activation='relu',\n",
    "#     verbose=True,\n",
    "# ), verbose=True)\n",
    "model = MLPRegressor(\n",
    "    hidden_layer_sizes=[100, 100],\n",
    "    activation='tanh',\n",
    "    verbose=True,\n",
    "    solver='lbfgs',\n",
    ")\n",
    "model.fit(X_train_transformed, Y_train.values)\n",
    "\n",
    "y_pred_validation_ridge = model.predict(X_test_transformed)\n",
    "ridge_error = rmsle(y_pred_validation_ridge, Y_test.values)\n",
    "print(f'Validation RMSLE = {ridge_error:.5f}')\n"
   ],
   "metadata": {
    "collapsed": false
   }
  },
  {
   "cell_type": "code",
   "execution_count": 8,
   "outputs": [
    {
     "name": "stdout",
     "output_type": "stream",
     "text": [
      "Validation RMSLE = 0.55752\n"
     ]
    }
   ],
   "source": [
    "y_pred_validation_ridge = model.predict(X_test_transformed)\n",
    "ridge_error = rmsle(y_pred_validation_ridge, Y_test.values)\n",
    "print(f'Validation RMSLE = {ridge_error:.5f}')\n"
   ],
   "metadata": {
    "collapsed": false
   }
  },
  {
   "cell_type": "code",
   "execution_count": null,
   "outputs": [],
   "source": [],
   "metadata": {
    "collapsed": false
   }
  }
 ],
 "metadata": {
  "kernelspec": {
   "display_name": "Python 3",
   "language": "python",
   "name": "python3"
  },
  "language_info": {
   "codemirror_mode": {
    "name": "ipython",
    "version": 2
   },
   "file_extension": ".py",
   "mimetype": "text/x-python",
   "name": "python",
   "nbconvert_exporter": "python",
   "pygments_lexer": "ipython2",
   "version": "2.7.6"
  }
 },
 "nbformat": 4,
 "nbformat_minor": 0
}
